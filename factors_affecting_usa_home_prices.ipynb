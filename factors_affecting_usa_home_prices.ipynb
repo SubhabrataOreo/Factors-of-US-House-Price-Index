{
  "metadata": {
    "kernelspec": {
      "language": "python",
      "display_name": "Python 3",
      "name": "python3"
    },
    "language_info": {
      "name": "python",
      "version": "3.7.12",
      "mimetype": "text/x-python",
      "codemirror_mode": {
        "name": "ipython",
        "version": 3
      },
      "pygments_lexer": "ipython3",
      "nbconvert_exporter": "python",
      "file_extension": ".py"
    },
    "colab": {
      "provenance": []
    }
  },
  "nbformat_minor": 0,
  "nbformat": 4,
  "cells": [
    {
      "cell_type": "markdown",
      "source": [
        "# 1. Data Preprocessing & Visualization"
      ],
      "metadata": {
        "id": "kAdN9vypi9TY"
      }
    },
    {
      "cell_type": "code",
      "source": [
        "import numpy as np\n",
        "import pandas as pd\n",
        "\n",
        "# Data Visualization\n",
        "import matplotlib.pyplot as plt\n",
        "import seaborn as sns\n",
        "\n",
        "#data prep & modelling\n",
        "from sklearn.preprocessing import MinMaxScaler\n",
        "from sklearn.model_selection import train_test_split, cross_val_score,  RepeatedKFold, GridSearchCV\n",
        "from sklearn.linear_model import LinearRegression, Lasso, Ridge, BayesianRidge, ElasticNet\n",
        "from sklearn.metrics import mean_squared_error, r2_score\n",
        "import statsmodels.api as sm\n",
        "\n",
        "# Ignore warnings\n",
        "import warnings\n",
        "warnings.filterwarnings('ignore')\n",
        "\n",
        "sns.set_style(\"darkgrid\")\n",
        "%matplotlib inline"
      ],
      "metadata": {
        "_kg_hide-input": false,
        "execution": {
          "iopub.status.busy": "2022-08-03T03:50:36.043955Z",
          "iopub.execute_input": "2022-08-03T03:50:36.044769Z",
          "iopub.status.idle": "2022-08-03T03:50:38.378157Z",
          "shell.execute_reply.started": "2022-08-03T03:50:36.044727Z",
          "shell.execute_reply": "2022-08-03T03:50:38.377269Z"
        },
        "trusted": true,
        "id": "NAXAxYQei9TY"
      },
      "execution_count": 1,
      "outputs": []
    },
    {
      "cell_type": "code",
      "source": [
        "path = '/content/Housing_Macroeconomic_Factors_US.csv'\n",
        "macro = pd.read_csv(path, parse_dates=['Date'])"
      ],
      "metadata": {
        "execution": {
          "iopub.status.busy": "2022-08-03T03:50:38.380490Z",
          "iopub.execute_input": "2022-08-03T03:50:38.380911Z",
          "iopub.status.idle": "2022-08-03T03:50:38.400851Z",
          "shell.execute_reply.started": "2022-08-03T03:50:38.380871Z",
          "shell.execute_reply": "2022-08-03T03:50:38.399675Z"
        },
        "trusted": true,
        "id": "4C1UEtFWi9TZ"
      },
      "execution_count": 2,
      "outputs": []
    },
    {
      "cell_type": "code",
      "source": [
        "print(macro.shape)\n",
        "print('='*20)\n",
        "print(macro.info())\n",
        "print('='*20)\n",
        "print(macro.describe())\n"
      ],
      "metadata": {
        "execution": {
          "iopub.status.busy": "2022-08-03T03:50:38.403798Z",
          "iopub.execute_input": "2022-08-03T03:50:38.404644Z",
          "iopub.status.idle": "2022-08-03T03:50:38.468607Z",
          "shell.execute_reply.started": "2022-08-03T03:50:38.404596Z",
          "shell.execute_reply": "2022-08-03T03:50:38.467457Z"
        },
        "trusted": true,
        "colab": {
          "base_uri": "https://localhost:8080/"
        },
        "id": "xFU_amODi9TZ",
        "outputId": "3e1864b5-8d63-49e4-ceb6-497c3303b57c"
      },
      "execution_count": 3,
      "outputs": [
        {
          "output_type": "stream",
          "name": "stdout",
          "text": [
            "(425, 13)\n",
            "====================\n",
            "<class 'pandas.core.frame.DataFrame'>\n",
            "RangeIndex: 425 entries, 0 to 424\n",
            "Data columns (total 13 columns):\n",
            " #   Column             Non-Null Count  Dtype         \n",
            "---  ------             --------------  -----         \n",
            " 0   Date               425 non-null    datetime64[ns]\n",
            " 1   house_price_index  425 non-null    float64       \n",
            " 2   population         425 non-null    int64         \n",
            " 3   house_supply       425 non-null    float64       \n",
            " 4   gdp                422 non-null    float64       \n",
            " 5   mortgage_rate      422 non-null    float64       \n",
            " 6   employment_rate    422 non-null    float64       \n",
            " 7   permit_new         422 non-null    float64       \n",
            " 8   ppi_res            422 non-null    float64       \n",
            " 9   m3                 422 non-null    float64       \n",
            " 10  cci                422 non-null    float64       \n",
            " 11  delinquency_rate   374 non-null    float64       \n",
            " 12  hcai               285 non-null    float64       \n",
            "dtypes: datetime64[ns](1), float64(11), int64(1)\n",
            "memory usage: 43.3 KB\n",
            "None\n",
            "====================\n",
            "       house_price_index     population  house_supply         gdp  \\\n",
            "count         425.000000     425.000000    425.000000  422.000000   \n",
            "mean          135.887280  291988.251765      5.813412   99.955457   \n",
            "std            53.684802   28193.599715      1.691079    1.124453   \n",
            "min            63.965000  241857.000000      3.300000   91.543057   \n",
            "25%            81.620000  267829.000000      4.400000   99.559318   \n",
            "50%           139.727000  293857.000000      5.500000   99.977924   \n",
            "75%           174.802000  317156.000000      6.700000  100.556927   \n",
            "max           304.831000  332928.000000     12.200000  101.825852   \n",
            "\n",
            "       mortgage_rate  employment_rate   permit_new     ppi_res          m3  \\\n",
            "count     422.000000       422.000000   422.000000  422.000000  422.000000   \n",
            "mean        6.328301        70.759327  1346.962085  166.813685    7.666456   \n",
            "std         2.209432         2.247253   394.776877   43.943882    4.656247   \n",
            "min         2.684000        60.261014   513.000000  100.000000    2.743900   \n",
            "25%         4.266250        69.317138  1077.250000  133.500000    3.615025   \n",
            "50%         6.257250        71.221613  1362.000000  154.750000    6.297450   \n",
            "75%         7.912000        72.281388  1614.750000  207.400000   10.617625   \n",
            "max        11.260000        74.507436  2263.000000  303.546000   21.749700   \n",
            "\n",
            "              cci  delinquency_rate        hcai  \n",
            "count  422.000000        374.000000  285.000000  \n",
            "mean   100.124667          3.984947    8.981895  \n",
            "std      1.466327          2.912758    6.855745  \n",
            "min     96.460330          1.400000    2.293000  \n",
            "25%     99.106098          2.130000    2.642000  \n",
            "50%    100.498000          2.470000    5.958000  \n",
            "75%    101.063150          4.490000   15.779000  \n",
            "max    102.977600         11.360000   21.774000  \n"
          ]
        }
      ]
    },
    {
      "cell_type": "markdown",
      "source": [
        "- Since I can't produce the missing historical values of delinquency rate and hcai, I think it is better to drop those rows with missing values."
      ],
      "metadata": {
        "id": "5YKd3BuRi9Ta"
      }
    },
    {
      "cell_type": "code",
      "source": [
        "macro = macro.dropna().set_index('Date')\n",
        "macro.head()"
      ],
      "metadata": {
        "execution": {
          "iopub.status.busy": "2022-08-03T03:50:38.471153Z",
          "iopub.execute_input": "2022-08-03T03:50:38.472115Z",
          "iopub.status.idle": "2022-08-03T03:50:38.498786Z",
          "shell.execute_reply.started": "2022-08-03T03:50:38.472053Z",
          "shell.execute_reply": "2022-08-03T03:50:38.497545Z"
        },
        "trusted": true,
        "colab": {
          "base_uri": "https://localhost:8080/",
          "height": 238
        },
        "id": "sMcKn1ebi9Ta",
        "outputId": "ccdbaa1e-50cb-4362-bd77-2c4da57df1c8"
      },
      "execution_count": 4,
      "outputs": [
        {
          "output_type": "execute_result",
          "data": {
            "text/plain": [
              "            house_price_index  population  house_supply         gdp  \\\n",
              "Date                                                                  \n",
              "1998-01-01             87.616      274732           4.0   99.994570   \n",
              "1998-02-01             88.004      274943           3.9   99.980549   \n",
              "1998-03-01             88.443      275175           4.1   99.975298   \n",
              "1998-04-01             88.879      275434           4.0   99.984454   \n",
              "1998-05-01             89.365      275700           3.9  100.013988   \n",
              "\n",
              "            mortgage_rate  employment_rate  permit_new  ppi_res      m3  \\\n",
              "Date                                                                      \n",
              "1998-01-01         6.9940        73.705376      1555.0    137.3  4.0562   \n",
              "1998-02-01         7.0425        73.776106      1647.0    137.5  4.0889   \n",
              "1998-03-01         7.1275        73.798698      1605.0    137.5  4.1143   \n",
              "1998-04-01         7.1400        73.869665      1547.0    137.9  4.1402   \n",
              "1998-05-01         7.1440        73.880942      1554.0    137.6  4.1644   \n",
              "\n",
              "                 cci  delinquency_rate    hcai  \n",
              "Date                                            \n",
              "1998-01-01  102.5385              2.16  10.024  \n",
              "1998-02-01  102.7129              2.16  10.024  \n",
              "1998-03-01  102.7210              2.16  10.024  \n",
              "1998-04-01  102.6981              2.03   9.668  \n",
              "1998-05-01  102.5923              2.03   9.668  "
            ],
            "text/html": [
              "\n",
              "  <div id=\"df-95347eed-3576-40eb-8a40-424057adccf4\" class=\"colab-df-container\">\n",
              "    <div>\n",
              "<style scoped>\n",
              "    .dataframe tbody tr th:only-of-type {\n",
              "        vertical-align: middle;\n",
              "    }\n",
              "\n",
              "    .dataframe tbody tr th {\n",
              "        vertical-align: top;\n",
              "    }\n",
              "\n",
              "    .dataframe thead th {\n",
              "        text-align: right;\n",
              "    }\n",
              "</style>\n",
              "<table border=\"1\" class=\"dataframe\">\n",
              "  <thead>\n",
              "    <tr style=\"text-align: right;\">\n",
              "      <th></th>\n",
              "      <th>house_price_index</th>\n",
              "      <th>population</th>\n",
              "      <th>house_supply</th>\n",
              "      <th>gdp</th>\n",
              "      <th>mortgage_rate</th>\n",
              "      <th>employment_rate</th>\n",
              "      <th>permit_new</th>\n",
              "      <th>ppi_res</th>\n",
              "      <th>m3</th>\n",
              "      <th>cci</th>\n",
              "      <th>delinquency_rate</th>\n",
              "      <th>hcai</th>\n",
              "    </tr>\n",
              "    <tr>\n",
              "      <th>Date</th>\n",
              "      <th></th>\n",
              "      <th></th>\n",
              "      <th></th>\n",
              "      <th></th>\n",
              "      <th></th>\n",
              "      <th></th>\n",
              "      <th></th>\n",
              "      <th></th>\n",
              "      <th></th>\n",
              "      <th></th>\n",
              "      <th></th>\n",
              "      <th></th>\n",
              "    </tr>\n",
              "  </thead>\n",
              "  <tbody>\n",
              "    <tr>\n",
              "      <th>1998-01-01</th>\n",
              "      <td>87.616</td>\n",
              "      <td>274732</td>\n",
              "      <td>4.0</td>\n",
              "      <td>99.994570</td>\n",
              "      <td>6.9940</td>\n",
              "      <td>73.705376</td>\n",
              "      <td>1555.0</td>\n",
              "      <td>137.3</td>\n",
              "      <td>4.0562</td>\n",
              "      <td>102.5385</td>\n",
              "      <td>2.16</td>\n",
              "      <td>10.024</td>\n",
              "    </tr>\n",
              "    <tr>\n",
              "      <th>1998-02-01</th>\n",
              "      <td>88.004</td>\n",
              "      <td>274943</td>\n",
              "      <td>3.9</td>\n",
              "      <td>99.980549</td>\n",
              "      <td>7.0425</td>\n",
              "      <td>73.776106</td>\n",
              "      <td>1647.0</td>\n",
              "      <td>137.5</td>\n",
              "      <td>4.0889</td>\n",
              "      <td>102.7129</td>\n",
              "      <td>2.16</td>\n",
              "      <td>10.024</td>\n",
              "    </tr>\n",
              "    <tr>\n",
              "      <th>1998-03-01</th>\n",
              "      <td>88.443</td>\n",
              "      <td>275175</td>\n",
              "      <td>4.1</td>\n",
              "      <td>99.975298</td>\n",
              "      <td>7.1275</td>\n",
              "      <td>73.798698</td>\n",
              "      <td>1605.0</td>\n",
              "      <td>137.5</td>\n",
              "      <td>4.1143</td>\n",
              "      <td>102.7210</td>\n",
              "      <td>2.16</td>\n",
              "      <td>10.024</td>\n",
              "    </tr>\n",
              "    <tr>\n",
              "      <th>1998-04-01</th>\n",
              "      <td>88.879</td>\n",
              "      <td>275434</td>\n",
              "      <td>4.0</td>\n",
              "      <td>99.984454</td>\n",
              "      <td>7.1400</td>\n",
              "      <td>73.869665</td>\n",
              "      <td>1547.0</td>\n",
              "      <td>137.9</td>\n",
              "      <td>4.1402</td>\n",
              "      <td>102.6981</td>\n",
              "      <td>2.03</td>\n",
              "      <td>9.668</td>\n",
              "    </tr>\n",
              "    <tr>\n",
              "      <th>1998-05-01</th>\n",
              "      <td>89.365</td>\n",
              "      <td>275700</td>\n",
              "      <td>3.9</td>\n",
              "      <td>100.013988</td>\n",
              "      <td>7.1440</td>\n",
              "      <td>73.880942</td>\n",
              "      <td>1554.0</td>\n",
              "      <td>137.6</td>\n",
              "      <td>4.1644</td>\n",
              "      <td>102.5923</td>\n",
              "      <td>2.03</td>\n",
              "      <td>9.668</td>\n",
              "    </tr>\n",
              "  </tbody>\n",
              "</table>\n",
              "</div>\n",
              "    <div class=\"colab-df-buttons\">\n",
              "\n",
              "  <div class=\"colab-df-container\">\n",
              "    <button class=\"colab-df-convert\" onclick=\"convertToInteractive('df-95347eed-3576-40eb-8a40-424057adccf4')\"\n",
              "            title=\"Convert this dataframe to an interactive table.\"\n",
              "            style=\"display:none;\">\n",
              "\n",
              "  <svg xmlns=\"http://www.w3.org/2000/svg\" height=\"24px\" viewBox=\"0 -960 960 960\">\n",
              "    <path d=\"M120-120v-720h720v720H120Zm60-500h600v-160H180v160Zm220 220h160v-160H400v160Zm0 220h160v-160H400v160ZM180-400h160v-160H180v160Zm440 0h160v-160H620v160ZM180-180h160v-160H180v160Zm440 0h160v-160H620v160Z\"/>\n",
              "  </svg>\n",
              "    </button>\n",
              "\n",
              "  <style>\n",
              "    .colab-df-container {\n",
              "      display:flex;\n",
              "      gap: 12px;\n",
              "    }\n",
              "\n",
              "    .colab-df-convert {\n",
              "      background-color: #E8F0FE;\n",
              "      border: none;\n",
              "      border-radius: 50%;\n",
              "      cursor: pointer;\n",
              "      display: none;\n",
              "      fill: #1967D2;\n",
              "      height: 32px;\n",
              "      padding: 0 0 0 0;\n",
              "      width: 32px;\n",
              "    }\n",
              "\n",
              "    .colab-df-convert:hover {\n",
              "      background-color: #E2EBFA;\n",
              "      box-shadow: 0px 1px 2px rgba(60, 64, 67, 0.3), 0px 1px 3px 1px rgba(60, 64, 67, 0.15);\n",
              "      fill: #174EA6;\n",
              "    }\n",
              "\n",
              "    .colab-df-buttons div {\n",
              "      margin-bottom: 4px;\n",
              "    }\n",
              "\n",
              "    [theme=dark] .colab-df-convert {\n",
              "      background-color: #3B4455;\n",
              "      fill: #D2E3FC;\n",
              "    }\n",
              "\n",
              "    [theme=dark] .colab-df-convert:hover {\n",
              "      background-color: #434B5C;\n",
              "      box-shadow: 0px 1px 3px 1px rgba(0, 0, 0, 0.15);\n",
              "      filter: drop-shadow(0px 1px 2px rgba(0, 0, 0, 0.3));\n",
              "      fill: #FFFFFF;\n",
              "    }\n",
              "  </style>\n",
              "\n",
              "    <script>\n",
              "      const buttonEl =\n",
              "        document.querySelector('#df-95347eed-3576-40eb-8a40-424057adccf4 button.colab-df-convert');\n",
              "      buttonEl.style.display =\n",
              "        google.colab.kernel.accessAllowed ? 'block' : 'none';\n",
              "\n",
              "      async function convertToInteractive(key) {\n",
              "        const element = document.querySelector('#df-95347eed-3576-40eb-8a40-424057adccf4');\n",
              "        const dataTable =\n",
              "          await google.colab.kernel.invokeFunction('convertToInteractive',\n",
              "                                                    [key], {});\n",
              "        if (!dataTable) return;\n",
              "\n",
              "        const docLinkHtml = 'Like what you see? Visit the ' +\n",
              "          '<a target=\"_blank\" href=https://colab.research.google.com/notebooks/data_table.ipynb>data table notebook</a>'\n",
              "          + ' to learn more about interactive tables.';\n",
              "        element.innerHTML = '';\n",
              "        dataTable['output_type'] = 'display_data';\n",
              "        await google.colab.output.renderOutput(dataTable, element);\n",
              "        const docLink = document.createElement('div');\n",
              "        docLink.innerHTML = docLinkHtml;\n",
              "        element.appendChild(docLink);\n",
              "      }\n",
              "    </script>\n",
              "  </div>\n",
              "\n",
              "\n",
              "<div id=\"df-d7983a35-f413-4f0c-8807-4c108df57167\">\n",
              "  <button class=\"colab-df-quickchart\" onclick=\"quickchart('df-d7983a35-f413-4f0c-8807-4c108df57167')\"\n",
              "            title=\"Suggest charts.\"\n",
              "            style=\"display:none;\">\n",
              "\n",
              "<svg xmlns=\"http://www.w3.org/2000/svg\" height=\"24px\"viewBox=\"0 0 24 24\"\n",
              "     width=\"24px\">\n",
              "    <g>\n",
              "        <path d=\"M19 3H5c-1.1 0-2 .9-2 2v14c0 1.1.9 2 2 2h14c1.1 0 2-.9 2-2V5c0-1.1-.9-2-2-2zM9 17H7v-7h2v7zm4 0h-2V7h2v10zm4 0h-2v-4h2v4z\"/>\n",
              "    </g>\n",
              "</svg>\n",
              "  </button>\n",
              "\n",
              "<style>\n",
              "  .colab-df-quickchart {\n",
              "      --bg-color: #E8F0FE;\n",
              "      --fill-color: #1967D2;\n",
              "      --hover-bg-color: #E2EBFA;\n",
              "      --hover-fill-color: #174EA6;\n",
              "      --disabled-fill-color: #AAA;\n",
              "      --disabled-bg-color: #DDD;\n",
              "  }\n",
              "\n",
              "  [theme=dark] .colab-df-quickchart {\n",
              "      --bg-color: #3B4455;\n",
              "      --fill-color: #D2E3FC;\n",
              "      --hover-bg-color: #434B5C;\n",
              "      --hover-fill-color: #FFFFFF;\n",
              "      --disabled-bg-color: #3B4455;\n",
              "      --disabled-fill-color: #666;\n",
              "  }\n",
              "\n",
              "  .colab-df-quickchart {\n",
              "    background-color: var(--bg-color);\n",
              "    border: none;\n",
              "    border-radius: 50%;\n",
              "    cursor: pointer;\n",
              "    display: none;\n",
              "    fill: var(--fill-color);\n",
              "    height: 32px;\n",
              "    padding: 0;\n",
              "    width: 32px;\n",
              "  }\n",
              "\n",
              "  .colab-df-quickchart:hover {\n",
              "    background-color: var(--hover-bg-color);\n",
              "    box-shadow: 0 1px 2px rgba(60, 64, 67, 0.3), 0 1px 3px 1px rgba(60, 64, 67, 0.15);\n",
              "    fill: var(--button-hover-fill-color);\n",
              "  }\n",
              "\n",
              "  .colab-df-quickchart-complete:disabled,\n",
              "  .colab-df-quickchart-complete:disabled:hover {\n",
              "    background-color: var(--disabled-bg-color);\n",
              "    fill: var(--disabled-fill-color);\n",
              "    box-shadow: none;\n",
              "  }\n",
              "\n",
              "  .colab-df-spinner {\n",
              "    border: 2px solid var(--fill-color);\n",
              "    border-color: transparent;\n",
              "    border-bottom-color: var(--fill-color);\n",
              "    animation:\n",
              "      spin 1s steps(1) infinite;\n",
              "  }\n",
              "\n",
              "  @keyframes spin {\n",
              "    0% {\n",
              "      border-color: transparent;\n",
              "      border-bottom-color: var(--fill-color);\n",
              "      border-left-color: var(--fill-color);\n",
              "    }\n",
              "    20% {\n",
              "      border-color: transparent;\n",
              "      border-left-color: var(--fill-color);\n",
              "      border-top-color: var(--fill-color);\n",
              "    }\n",
              "    30% {\n",
              "      border-color: transparent;\n",
              "      border-left-color: var(--fill-color);\n",
              "      border-top-color: var(--fill-color);\n",
              "      border-right-color: var(--fill-color);\n",
              "    }\n",
              "    40% {\n",
              "      border-color: transparent;\n",
              "      border-right-color: var(--fill-color);\n",
              "      border-top-color: var(--fill-color);\n",
              "    }\n",
              "    60% {\n",
              "      border-color: transparent;\n",
              "      border-right-color: var(--fill-color);\n",
              "    }\n",
              "    80% {\n",
              "      border-color: transparent;\n",
              "      border-right-color: var(--fill-color);\n",
              "      border-bottom-color: var(--fill-color);\n",
              "    }\n",
              "    90% {\n",
              "      border-color: transparent;\n",
              "      border-bottom-color: var(--fill-color);\n",
              "    }\n",
              "  }\n",
              "</style>\n",
              "\n",
              "  <script>\n",
              "    async function quickchart(key) {\n",
              "      const quickchartButtonEl =\n",
              "        document.querySelector('#' + key + ' button');\n",
              "      quickchartButtonEl.disabled = true;  // To prevent multiple clicks.\n",
              "      quickchartButtonEl.classList.add('colab-df-spinner');\n",
              "      try {\n",
              "        const charts = await google.colab.kernel.invokeFunction(\n",
              "            'suggestCharts', [key], {});\n",
              "      } catch (error) {\n",
              "        console.error('Error during call to suggestCharts:', error);\n",
              "      }\n",
              "      quickchartButtonEl.classList.remove('colab-df-spinner');\n",
              "      quickchartButtonEl.classList.add('colab-df-quickchart-complete');\n",
              "    }\n",
              "    (() => {\n",
              "      let quickchartButtonEl =\n",
              "        document.querySelector('#df-d7983a35-f413-4f0c-8807-4c108df57167 button');\n",
              "      quickchartButtonEl.style.display =\n",
              "        google.colab.kernel.accessAllowed ? 'block' : 'none';\n",
              "    })();\n",
              "  </script>\n",
              "</div>\n",
              "    </div>\n",
              "  </div>\n"
            ]
          },
          "metadata": {},
          "execution_count": 4
        }
      ]
    },
    {
      "cell_type": "markdown",
      "source": [
        "#### *Observations:*\n"
      ],
      "metadata": {
        "id": "G--qj6Jsi9Ta"
      }
    },
    {
      "cell_type": "markdown",
      "source": [
        "### Monthly trend line of House Price Index across the US:"
      ],
      "metadata": {
        "id": "EpfWFdDglYRk"
      }
    },
    {
      "cell_type": "code",
      "source": [
        "# Plotting the line chart\n",
        "plt.figure(figsize=(20, 8))  # Set the figure size\n",
        "plt.plot(macro.index, macro['house_price_index'], marker='o', linestyle='-')\n",
        "\n",
        "# Adding labels and title\n",
        "plt.ylabel('House Price Index')\n",
        "plt.title('House Price Index Trend')\n",
        "\n",
        "# Adding gridlines\n",
        "plt.grid(True)\n",
        "\n",
        "# Rotating x-axis labels for better readability (optional)\n",
        "plt.xticks(rotation=45)\n",
        "\n",
        "# Show the plot\n",
        "plt.show()\n"
      ],
      "metadata": {
        "colab": {
          "base_uri": "https://localhost:8080/",
          "height": 719
        },
        "id": "hkVfL3MNkmE7",
        "outputId": "dfd0518e-0f0a-4c60-e650-f120b6558b5e"
      },
      "execution_count": 14,
      "outputs": [
        {
          "output_type": "display_data",
          "data": {
            "text/plain": [
              "<Figure size 2000x800 with 1 Axes>"
            ],
            "image/png": "[encoded data removed]"
          },
          "metadata": {}
        }
      ]
    },
    {
      "cell_type": "markdown",
      "source": [
        "### Observation:\n",
        "\n",
        "\n",
        "\n",
        "*   The view is showing the trend of house price index on a monthly basis.\n",
        "*   The overall trend shows increase in the house price index value.\n",
        "*   But this view is not showing the numbers hence we are moving towards a combined yearly trend next.\n",
        "\n",
        "\n",
        "\n"
      ],
      "metadata": {
        "id": "o936VdYEnLW3"
      }
    },
    {
      "cell_type": "markdown",
      "source": [
        "### Yearly trend line of House Price Index across the US:"
      ],
      "metadata": {
        "id": "2fG2rn3qoEdo"
      }
    },
    {
      "cell_type": "code",
      "source": [
        "yearly_sum = macro['house_price_index'].resample('Y').sum()\n",
        "\n",
        "# Plotting the line chart for yearly sums\n",
        "plt.figure(figsize=(12, 6))  # Set the figure size\n",
        "plt.plot(yearly_sum.index, yearly_sum, marker='o', linestyle='-')\n",
        "\n",
        "# Adding data labels to the data points\n",
        "for i, price_sum in enumerate(yearly_sum):\n",
        "    plt.text(yearly_sum.index[i], price_sum, f'{price_sum:.2f}', ha='left', va='bottom')\n",
        "\n",
        "# Adding labels and title\n",
        "plt.xlabel('Year')\n",
        "plt.ylabel('Sum of House Price Index')\n",
        "plt.title('Yearly Sum of House Price Index')\n",
        "\n",
        "# Adding gridlines\n",
        "plt.grid(True)\n",
        "\n",
        "# Show the plot\n",
        "plt.show()\n"
      ],
      "metadata": {
        "colab": {
          "base_uri": "https://localhost:8080/",
          "height": 564
        },
        "id": "lvtr-_Alm6o6",
        "outputId": "6973fe1c-b0b9-44b5-c18d-3efa9aa459a1"
      },
      "execution_count": 13,
      "outputs": [
        {
          "output_type": "display_data",
          "data": {
            "text/plain": [
              "<Figure size 1200x600 with 1 Axes>"
            ],
            "image/png": "[encoded data removed]"
          },
          "metadata": {}
        }
      ]
    },
    {
      "cell_type": "markdown",
      "source": [
        "### Observation:\n",
        "\n",
        "\n",
        "*   As we can see from the plot, the overall total house price index has increased till 2022.\n",
        "*   For 2023, we are not yet having the complete number as expected, hopefully the trend will only go up as per the previous years.\n",
        "\n"
      ],
      "metadata": {
        "id": "0O_4_55_oSc4"
      }
    },
    {
      "cell_type": "markdown",
      "source": [
        "### Correlation matrix of the macroeconomic factors:"
      ],
      "metadata": {
        "id": "IHkqM2RJi9Ta"
      }
    },
    {
      "cell_type": "code",
      "source": [
        "macrosd_corr = macro.corr()\n",
        "mask = np.zeros_like(macrosd_corr)\n",
        "mask[np.triu_indices_from(mask)] = True\n",
        "with sns.axes_style(\"white\"):\n",
        "    f, ax = plt.subplots(figsize=(12, 10))\n",
        "    ax = sns.heatmap(macrosd_corr, mask=mask, vmax=1, vmin=-1, linewidths=.5, square=True, cmap='coolwarm', annot=True)\n",
        "    plt.title('Correlation Heatmap of Macroeconomic factors', fontsize = 15)\n",
        "    plt.yticks(rotation=0)\n",
        "    plt.tight_layout()"
      ],
      "metadata": {
        "execution": {
          "iopub.status.busy": "2022-08-03T03:50:38.500279Z",
          "iopub.execute_input": "2022-08-03T03:50:38.500717Z",
          "iopub.status.idle": "2022-08-03T03:50:39.381943Z",
          "shell.execute_reply.started": "2022-08-03T03:50:38.500674Z",
          "shell.execute_reply": "2022-08-03T03:50:39.380609Z"
        },
        "trusted": true,
        "colab": {
          "base_uri": "https://localhost:8080/",
          "height": 1000
        },
        "id": "SAJkBHrhi9Ta",
        "outputId": "62ea69a4-c6af-4948-a6bd-27f312692ef0"
      },
      "execution_count": 5,
      "outputs": [
        {
          "output_type": "display_data",
          "data": {
            "text/plain": [
              "<Figure size 1200x1000 with 2 Axes>"
            ],
            "image/png": "[encoded data removed]"
          },
          "metadata": {}
        }
      ]
    },
    {
      "cell_type": "markdown",
      "source": [
        "#### *Observations:*\n",
        "- HPI (house_price_index) has a very strong positive linear relationship with Population, Producer Price Index involved with Residential Construction (ppi_res) & m3\n",
        "- It also has a strong negative linear relationship with mortgage_rate.\n",
        "- But, we can note, that Population has even stronger positive relationship with ppi_res and m3, while a strong negative relationship with mortgage_rate."
      ],
      "metadata": {
        "id": "FrNsixUKi9Tb"
      }
    },
    {
      "cell_type": "markdown",
      "source": [
        "# 2. Data Modelling"
      ],
      "metadata": {
        "id": "2TbPmUNKi9Tb"
      }
    },
    {
      "cell_type": "markdown",
      "source": [
        "### Normalizing to scale the features (Feature Scaling)"
      ],
      "metadata": {
        "id": "z5BUqocji9Tb"
      }
    },
    {
      "cell_type": "code",
      "source": [
        "macro_df = macro.copy().reset_index()\n",
        "macro_df = macro_df.drop(columns=['Date'])"
      ],
      "metadata": {
        "execution": {
          "iopub.status.busy": "2022-08-03T03:51:12.850647Z",
          "iopub.execute_input": "2022-08-03T03:51:12.851059Z",
          "iopub.status.idle": "2022-08-03T03:51:12.859055Z",
          "shell.execute_reply.started": "2022-08-03T03:51:12.851021Z",
          "shell.execute_reply": "2022-08-03T03:51:12.857887Z"
        },
        "trusted": true,
        "id": "16AKbq97i9Tb"
      },
      "execution_count": 15,
      "outputs": []
    },
    {
      "cell_type": "code",
      "source": [
        "scaler = MinMaxScaler()\n",
        "n_macro=pd.DataFrame(scaler.fit_transform(macro_df), columns=macro_df.columns, index=macro_df.index)\n",
        "n_macro.head()"
      ],
      "metadata": {
        "execution": {
          "iopub.status.busy": "2022-08-03T03:51:24.169508Z",
          "iopub.execute_input": "2022-08-03T03:51:24.169890Z",
          "iopub.status.idle": "2022-08-03T03:51:24.194145Z",
          "shell.execute_reply.started": "2022-08-03T03:51:24.169860Z",
          "shell.execute_reply": "2022-08-03T03:51:24.193213Z"
        },
        "trusted": true,
        "colab": {
          "base_uri": "https://localhost:8080/",
          "height": 206
        },
        "id": "O-2GNVaLi9Tb",
        "outputId": "aba0f7a8-696b-4d92-d93b-e55bd4dd299e"
      },
      "execution_count": 17,
      "outputs": [
        {
          "output_type": "execute_result",
          "data": {
            "text/plain": [
              "   house_price_index  population  house_supply       gdp  mortgage_rate  \\\n",
              "0           0.000000    0.000000      0.078652  0.821908       0.739153   \n",
              "1           0.002124    0.003659      0.067416  0.820545       0.747470   \n",
              "2           0.004528    0.007682      0.089888  0.820034       0.762048   \n",
              "3           0.006915    0.012172      0.078652  0.820924       0.764191   \n",
              "4           0.009576    0.016785      0.067416  0.823797       0.764877   \n",
              "\n",
              "   employment_rate  permit_new   ppi_res        m3       cci  \\\n",
              "0         0.943701    0.595429  0.001452  0.000000  0.932625   \n",
              "1         0.948666    0.648000  0.002905  0.001931  0.959385   \n",
              "2         0.950251    0.624000  0.002905  0.003431  0.960628   \n",
              "3         0.955233    0.590857  0.005810  0.004960  0.957114   \n",
              "4         0.956024    0.594857  0.003631  0.006389  0.940880   \n",
              "\n",
              "   delinquency_rate      hcai  \n",
              "0          0.076305  0.396848  \n",
              "1          0.076305  0.396848  \n",
              "2          0.076305  0.396848  \n",
              "3          0.063253  0.378574  \n",
              "4          0.063253  0.378574  "
            ],
            "text/html": [
              "\n",
              "  <div id=\"df-b92b4487-83b2-4f45-b756-87b05c1676e1\" class=\"colab-df-container\">\n",
              "    <div>\n",
              "<style scoped>\n",
              "    .dataframe tbody tr th:only-of-type {\n",
              "        vertical-align: middle;\n",
              "    }\n",
              "\n",
              "    .dataframe tbody tr th {\n",
              "        vertical-align: top;\n",
              "    }\n",
              "\n",
              "    .dataframe thead th {\n",
              "        text-align: right;\n",
              "    }\n",
              "</style>\n",
              "<table border=\"1\" class=\"dataframe\">\n",
              "  <thead>\n",
              "    <tr style=\"text-align: right;\">\n",
              "      <th></th>\n",
              "      <th>house_price_index</th>\n",
              "      <th>population</th>\n",
              "      <th>house_supply</th>\n",
              "      <th>gdp</th>\n",
              "      <th>mortgage_rate</th>\n",
              "      <th>employment_rate</th>\n",
              "      <th>permit_new</th>\n",
              "      <th>ppi_res</th>\n",
              "      <th>m3</th>\n",
              "      <th>cci</th>\n",
              "      <th>delinquency_rate</th>\n",
              "      <th>hcai</th>\n",
              "    </tr>\n",
              "  </thead>\n",
              "  <tbody>\n",
              "    <tr>\n",
              "      <th>0</th>\n",
              "      <td>0.000000</td>\n",
              "      <td>0.000000</td>\n",
              "      <td>0.078652</td>\n",
              "      <td>0.821908</td>\n",
              "      <td>0.739153</td>\n",
              "      <td>0.943701</td>\n",
              "      <td>0.595429</td>\n",
              "      <td>0.001452</td>\n",
              "      <td>0.000000</td>\n",
              "      <td>0.932625</td>\n",
              "      <td>0.076305</td>\n",
              "      <td>0.396848</td>\n",
              "    </tr>\n",
              "    <tr>\n",
              "      <th>1</th>\n",
              "      <td>0.002124</td>\n",
              "      <td>0.003659</td>\n",
              "      <td>0.067416</td>\n",
              "      <td>0.820545</td>\n",
              "      <td>0.747470</td>\n",
              "      <td>0.948666</td>\n",
              "      <td>0.648000</td>\n",
              "      <td>0.002905</td>\n",
              "      <td>0.001931</td>\n",
              "      <td>0.959385</td>\n",
              "      <td>0.076305</td>\n",
              "      <td>0.396848</td>\n",
              "    </tr>\n",
              "    <tr>\n",
              "      <th>2</th>\n",
              "      <td>0.004528</td>\n",
              "      <td>0.007682</td>\n",
              "      <td>0.089888</td>\n",
              "      <td>0.820034</td>\n",
              "      <td>0.762048</td>\n",
              "      <td>0.950251</td>\n",
              "      <td>0.624000</td>\n",
              "      <td>0.002905</td>\n",
              "      <td>0.003431</td>\n",
              "      <td>0.960628</td>\n",
              "      <td>0.076305</td>\n",
              "      <td>0.396848</td>\n",
              "    </tr>\n",
              "    <tr>\n",
              "      <th>3</th>\n",
              "      <td>0.006915</td>\n",
              "      <td>0.012172</td>\n",
              "      <td>0.078652</td>\n",
              "      <td>0.820924</td>\n",
              "      <td>0.764191</td>\n",
              "      <td>0.955233</td>\n",
              "      <td>0.590857</td>\n",
              "      <td>0.005810</td>\n",
              "      <td>0.004960</td>\n",
              "      <td>0.957114</td>\n",
              "      <td>0.063253</td>\n",
              "      <td>0.378574</td>\n",
              "    </tr>\n",
              "    <tr>\n",
              "      <th>4</th>\n",
              "      <td>0.009576</td>\n",
              "      <td>0.016785</td>\n",
              "      <td>0.067416</td>\n",
              "      <td>0.823797</td>\n",
              "      <td>0.764877</td>\n",
              "      <td>0.956024</td>\n",
              "      <td>0.594857</td>\n",
              "      <td>0.003631</td>\n",
              "      <td>0.006389</td>\n",
              "      <td>0.940880</td>\n",
              "      <td>0.063253</td>\n",
              "      <td>0.378574</td>\n",
              "    </tr>\n",
              "  </tbody>\n",
              "</table>\n",
              "</div>\n",
              "    <div class=\"colab-df-buttons\">\n",
              "\n",
              "  <div class=\"colab-df-container\">\n",
              "    <button class=\"colab-df-convert\" onclick=\"convertToInteractive('df-b92b4487-83b2-4f45-b756-87b05c1676e1')\"\n",
              "            title=\"Convert this dataframe to an interactive table.\"\n",
              "            style=\"display:none;\">\n",
              "\n",
              "  <svg xmlns=\"http://www.w3.org/2000/svg\" height=\"24px\" viewBox=\"0 -960 960 960\">\n",
              "    <path d=\"M120-120v-720h720v720H120Zm60-500h600v-160H180v160Zm220 220h160v-160H400v160Zm0 220h160v-160H400v160ZM180-400h160v-160H180v160Zm440 0h160v-160H620v160ZM180-180h160v-160H180v160Zm440 0h160v-160H620v160Z\"/>\n",
              "  </svg>\n",
              "    </button>\n",
              "\n",
              "  <style>\n",
              "    .colab-df-container {\n",
              "      display:flex;\n",
              "      gap: 12px;\n",
              "    }\n",
              "\n",
              "    .colab-df-convert {\n",
              "      background-color: #E8F0FE;\n",
              "      border: none;\n",
              "      border-radius: 50%;\n",
              "      cursor: pointer;\n",
              "      display: none;\n",
              "      fill: #1967D2;\n",
              "      height: 32px;\n",
              "      padding: 0 0 0 0;\n",
              "      width: 32px;\n",
              "    }\n",
              "\n",
              "    .colab-df-convert:hover {\n",
              "      background-color: #E2EBFA;\n",
              "      box-shadow: 0px 1px 2px rgba(60, 64, 67, 0.3), 0px 1px 3px 1px rgba(60, 64, 67, 0.15);\n",
              "      fill: #174EA6;\n",
              "    }\n",
              "\n",
              "    .colab-df-buttons div {\n",
              "      margin-bottom: 4px;\n",
              "    }\n",
              "\n",
              "    [theme=dark] .colab-df-convert {\n",
              "      background-color: #3B4455;\n",
              "      fill: #D2E3FC;\n",
              "    }\n",
              "\n",
              "    [theme=dark] .colab-df-convert:hover {\n",
              "      background-color: #434B5C;\n",
              "      box-shadow: 0px 1px 3px 1px rgba(0, 0, 0, 0.15);\n",
              "      filter: drop-shadow(0px 1px 2px rgba(0, 0, 0, 0.3));\n",
              "      fill: #FFFFFF;\n",
              "    }\n",
              "  </style>\n",
              "\n",
              "    <script>\n",
              "      const buttonEl =\n",
              "        document.querySelector('#df-b92b4487-83b2-4f45-b756-87b05c1676e1 button.colab-df-convert');\n",
              "      buttonEl.style.display =\n",
              "        google.colab.kernel.accessAllowed ? 'block' : 'none';\n",
              "\n",
              "      async function convertToInteractive(key) {\n",
              "        const element = document.querySelector('#df-b92b4487-83b2-4f45-b756-87b05c1676e1');\n",
              "        const dataTable =\n",
              "          await google.colab.kernel.invokeFunction('convertToInteractive',\n",
              "                                                    [key], {});\n",
              "        if (!dataTable) return;\n",
              "\n",
              "        const docLinkHtml = 'Like what you see? Visit the ' +\n",
              "          '<a target=\"_blank\" href=https://colab.research.google.com/notebooks/data_table.ipynb>data table notebook</a>'\n",
              "          + ' to learn more about interactive tables.';\n",
              "        element.innerHTML = '';\n",
              "        dataTable['output_type'] = 'display_data';\n",
              "        await google.colab.output.renderOutput(dataTable, element);\n",
              "        const docLink = document.createElement('div');\n",
              "        docLink.innerHTML = docLinkHtml;\n",
              "        element.appendChild(docLink);\n",
              "      }\n",
              "    </script>\n",
              "  </div>\n",
              "\n",
              "\n",
              "<div id=\"df-9162d2e4-0526-4d36-9754-af6078e0a745\">\n",
              "  <button class=\"colab-df-quickchart\" onclick=\"quickchart('df-9162d2e4-0526-4d36-9754-af6078e0a745')\"\n",
              "            title=\"Suggest charts.\"\n",
              "            style=\"display:none;\">\n",
              "\n",
              "<svg xmlns=\"http://www.w3.org/2000/svg\" height=\"24px\"viewBox=\"0 0 24 24\"\n",
              "     width=\"24px\">\n",
              "    <g>\n",
              "        <path d=\"M19 3H5c-1.1 0-2 .9-2 2v14c0 1.1.9 2 2 2h14c1.1 0 2-.9 2-2V5c0-1.1-.9-2-2-2zM9 17H7v-7h2v7zm4 0h-2V7h2v10zm4 0h-2v-4h2v4z\"/>\n",
              "    </g>\n",
              "</svg>\n",
              "  </button>\n",
              "\n",
              "<style>\n",
              "  .colab-df-quickchart {\n",
              "      --bg-color: #E8F0FE;\n",
              "      --fill-color: #1967D2;\n",
              "      --hover-bg-color: #E2EBFA;\n",
              "      --hover-fill-color: #174EA6;\n",
              "      --disabled-fill-color: #AAA;\n",
              "      --disabled-bg-color: #DDD;\n",
              "  }\n",
              "\n",
              "  [theme=dark] .colab-df-quickchart {\n",
              "      --bg-color: #3B4455;\n",
              "      --fill-color: #D2E3FC;\n",
              "      --hover-bg-color: #434B5C;\n",
              "      --hover-fill-color: #FFFFFF;\n",
              "      --disabled-bg-color: #3B4455;\n",
              "      --disabled-fill-color: #666;\n",
              "  }\n",
              "\n",
              "  .colab-df-quickchart {\n",
              "    background-color: var(--bg-color);\n",
              "    border: none;\n",
              "    border-radius: 50%;\n",
              "    cursor: pointer;\n",
              "    display: none;\n",
              "    fill: var(--fill-color);\n",
              "    height: 32px;\n",
              "    padding: 0;\n",
              "    width: 32px;\n",
              "  }\n",
              "\n",
              "  .colab-df-quickchart:hover {\n",
              "    background-color: var(--hover-bg-color);\n",
              "    box-shadow: 0 1px 2px rgba(60, 64, 67, 0.3), 0 1px 3px 1px rgba(60, 64, 67, 0.15);\n",
              "    fill: var(--button-hover-fill-color);\n",
              "  }\n",
              "\n",
              "  .colab-df-quickchart-complete:disabled,\n",
              "  .colab-df-quickchart-complete:disabled:hover {\n",
              "    background-color: var(--disabled-bg-color);\n",
              "    fill: var(--disabled-fill-color);\n",
              "    box-shadow: none;\n",
              "  }\n",
              "\n",
              "  .colab-df-spinner {\n",
              "    border: 2px solid var(--fill-color);\n",
              "    border-color: transparent;\n",
              "    border-bottom-color: var(--fill-color);\n",
              "    animation:\n",
              "      spin 1s steps(1) infinite;\n",
              "  }\n",
              "\n",
              "  @keyframes spin {\n",
              "    0% {\n",
              "      border-color: transparent;\n",
              "      border-bottom-color: var(--fill-color);\n",
              "      border-left-color: var(--fill-color);\n",
              "    }\n",
              "    20% {\n",
              "      border-color: transparent;\n",
              "      border-left-color: var(--fill-color);\n",
              "      border-top-color: var(--fill-color);\n",
              "    }\n",
              "    30% {\n",
              "      border-color: transparent;\n",
              "      border-left-color: var(--fill-color);\n",
              "      border-top-color: var(--fill-color);\n",
              "      border-right-color: var(--fill-color);\n",
              "    }\n",
              "    40% {\n",
              "      border-color: transparent;\n",
              "      border-right-color: var(--fill-color);\n",
              "      border-top-color: var(--fill-color);\n",
              "    }\n",
              "    60% {\n",
              "      border-color: transparent;\n",
              "      border-right-color: var(--fill-color);\n",
              "    }\n",
              "    80% {\n",
              "      border-color: transparent;\n",
              "      border-right-color: var(--fill-color);\n",
              "      border-bottom-color: var(--fill-color);\n",
              "    }\n",
              "    90% {\n",
              "      border-color: transparent;\n",
              "      border-bottom-color: var(--fill-color);\n",
              "    }\n",
              "  }\n",
              "</style>\n",
              "\n",
              "  <script>\n",
              "    async function quickchart(key) {\n",
              "      const quickchartButtonEl =\n",
              "        document.querySelector('#' + key + ' button');\n",
              "      quickchartButtonEl.disabled = true;  // To prevent multiple clicks.\n",
              "      quickchartButtonEl.classList.add('colab-df-spinner');\n",
              "      try {\n",
              "        const charts = await google.colab.kernel.invokeFunction(\n",
              "            'suggestCharts', [key], {});\n",
              "      } catch (error) {\n",
              "        console.error('Error during call to suggestCharts:', error);\n",
              "      }\n",
              "      quickchartButtonEl.classList.remove('colab-df-spinner');\n",
              "      quickchartButtonEl.classList.add('colab-df-quickchart-complete');\n",
              "    }\n",
              "    (() => {\n",
              "      let quickchartButtonEl =\n",
              "        document.querySelector('#df-9162d2e4-0526-4d36-9754-af6078e0a745 button');\n",
              "      quickchartButtonEl.style.display =\n",
              "        google.colab.kernel.accessAllowed ? 'block' : 'none';\n",
              "    })();\n",
              "  </script>\n",
              "</div>\n",
              "    </div>\n",
              "  </div>\n"
            ]
          },
          "metadata": {},
          "execution_count": 17
        }
      ]
    },
    {
      "cell_type": "markdown",
      "source": [
        "### Splitting the dataset:"
      ],
      "metadata": {
        "id": "ekiFY-7Qi9Tc"
      }
    },
    {
      "cell_type": "code",
      "source": [
        "X_train, X_test, y_train, y_test = train_test_split(n_macro.drop(columns=\"house_price_index\", axis=1), n_macro[\"house_price_index\"], test_size= 0.30, random_state=42)"
      ],
      "metadata": {
        "execution": {
          "iopub.status.busy": "2022-08-03T03:51:25.522610Z",
          "iopub.execute_input": "2022-08-03T03:51:25.523272Z",
          "iopub.status.idle": "2022-08-03T03:51:25.532018Z",
          "shell.execute_reply.started": "2022-08-03T03:51:25.523226Z",
          "shell.execute_reply": "2022-08-03T03:51:25.531007Z"
        },
        "trusted": true,
        "id": "HFcfMq47i9Tc"
      },
      "execution_count": 18,
      "outputs": []
    },
    {
      "cell_type": "markdown",
      "source": [
        "### Performing and evaluating various regression models:"
      ],
      "metadata": {
        "id": "r5zdLRc1i9Tc"
      }
    },
    {
      "cell_type": "markdown",
      "source": [
        "### 1. Lasso Regression:"
      ],
      "metadata": {
        "id": "v6bqmPUKpKgy"
      }
    },
    {
      "cell_type": "code",
      "source": [
        "# define evaluation method\n",
        "cv = RepeatedKFold(n_splits=10, n_repeats=3, random_state=1)\n",
        "\n",
        "# defining the model\n",
        "model1 = Lasso(alpha=1.0)\n",
        "scores1 = cross_val_score(model1, X_train, y_train, scoring='neg_mean_absolute_error', cv=cv, n_jobs=-1)\n",
        "scores1 = np.absolute(scores1)\n",
        "\n",
        "print('Mean MAE: %.3f (%.3f)' % (np.mean(scores1), np.std(scores1)))"
      ],
      "metadata": {
        "execution": {
          "iopub.status.busy": "2022-08-03T03:51:26.075454Z",
          "iopub.execute_input": "2022-08-03T03:51:26.075847Z",
          "iopub.status.idle": "2022-08-03T03:51:28.202786Z",
          "shell.execute_reply.started": "2022-08-03T03:51:26.075817Z",
          "shell.execute_reply": "2022-08-03T03:51:28.200718Z"
        },
        "trusted": true,
        "colab": {
          "base_uri": "https://localhost:8080/"
        },
        "id": "OIfkrk04i9Tc",
        "outputId": "1e543ba9-67cd-465f-bec8-6240777b783f"
      },
      "execution_count": 19,
      "outputs": [
        {
          "output_type": "stream",
          "name": "stdout",
          "text": [
            "Mean MAE: 0.167 (0.027)\n"
          ]
        }
      ]
    },
    {
      "cell_type": "markdown",
      "source": [
        "### 2. Ridge Regression:"
      ],
      "metadata": {
        "id": "uZqlJVB3pak9"
      }
    },
    {
      "cell_type": "code",
      "source": [
        "model2 = Ridge(alpha=1.0)\n",
        "scores2 = cross_val_score(model2, X_train, y_train, scoring='neg_mean_absolute_error', cv=cv, n_jobs=-1)\n",
        "scores2 = np.absolute(scores2)\n",
        "print('Mean MAE: %.3f (%.3f)' % (np.mean(scores2), np.std(scores2)))"
      ],
      "metadata": {
        "execution": {
          "iopub.status.busy": "2022-08-03T03:51:28.205620Z",
          "iopub.execute_input": "2022-08-03T03:51:28.206331Z",
          "iopub.status.idle": "2022-08-03T03:51:28.349396Z",
          "shell.execute_reply.started": "2022-08-03T03:51:28.206282Z",
          "shell.execute_reply": "2022-08-03T03:51:28.348197Z"
        },
        "trusted": true,
        "colab": {
          "base_uri": "https://localhost:8080/"
        },
        "id": "XRqU7vN5i9Tc",
        "outputId": "f64d8a3f-64db-4070-875c-1d0467f1f25d"
      },
      "execution_count": 20,
      "outputs": [
        {
          "output_type": "stream",
          "name": "stdout",
          "text": [
            "Mean MAE: 0.024 (0.004)\n"
          ]
        }
      ]
    },
    {
      "cell_type": "markdown",
      "source": [
        "### 3. Bayesian Ridge Regression:"
      ],
      "metadata": {
        "id": "ZkiQ_OwDtITV"
      }
    },
    {
      "cell_type": "code",
      "source": [
        "model3 = BayesianRidge()\n",
        "scores3 = cross_val_score(model3, X_train, y_train, scoring='neg_mean_absolute_error', cv=cv, n_jobs=-1)\n",
        "scores3 = np.absolute(scores3)\n",
        "print('Mean MAE: %.3f (%.3f)' % (np.mean(scores3), np.std(scores3)))"
      ],
      "metadata": {
        "execution": {
          "iopub.status.busy": "2022-08-03T03:51:28.350462Z",
          "iopub.execute_input": "2022-08-03T03:51:28.350754Z",
          "iopub.status.idle": "2022-08-03T03:51:28.505404Z",
          "shell.execute_reply.started": "2022-08-03T03:51:28.350725Z",
          "shell.execute_reply": "2022-08-03T03:51:28.504510Z"
        },
        "trusted": true,
        "id": "fYH34tgOi9Tc",
        "outputId": "3569c2dd-9b50-4a82-8860-e25202d3a31d"
      },
      "execution_count": null,
      "outputs": [
        {
          "name": "stdout",
          "text": "Mean MAE: 0.019 (0.003)\n",
          "output_type": "stream"
        }
      ]
    },
    {
      "cell_type": "markdown",
      "source": [
        "### 4. Linear Regression Model:"
      ],
      "metadata": {
        "id": "vXqlw51ItRrl"
      }
    },
    {
      "cell_type": "code",
      "source": [
        "model4 = LinearRegression()\n",
        "scores4 = cross_val_score(model4, X_train, y_train, scoring='neg_mean_absolute_error', cv=cv, n_jobs=-1)\n",
        "scores4 = np.absolute(scores4)\n",
        "print('Mean MAE: %.3f (%.3f)' % (np.mean(scores4), np.std(scores4)))"
      ],
      "metadata": {
        "execution": {
          "iopub.status.busy": "2022-08-03T03:51:28.507594Z",
          "iopub.execute_input": "2022-08-03T03:51:28.507911Z",
          "iopub.status.idle": "2022-08-03T03:51:28.627384Z",
          "shell.execute_reply.started": "2022-08-03T03:51:28.507882Z",
          "shell.execute_reply": "2022-08-03T03:51:28.626585Z"
        },
        "trusted": true,
        "id": "qmPfYUSwi9Tc",
        "outputId": "f86f01d5-dc8b-4f01-8c1d-595e08d59333"
      },
      "execution_count": null,
      "outputs": [
        {
          "name": "stdout",
          "text": "Mean MAE: 0.019 (0.003)\n",
          "output_type": "stream"
        }
      ]
    },
    {
      "cell_type": "markdown",
      "source": [
        "### 5. Elastic Net:"
      ],
      "metadata": {
        "id": "_M3ysM_Yt4I5"
      }
    },
    {
      "cell_type": "code",
      "source": [
        "model5 = ElasticNet()\n",
        "scores5 = cross_val_score(model5, X_train, y_train, scoring='neg_mean_absolute_error', cv=cv, n_jobs=-1)\n",
        "scores5 = np.absolute(scores5)\n",
        "print('Mean MAE: %.3f (%.3f)' % (np.mean(scores5), np.std(scores5)))"
      ],
      "metadata": {
        "execution": {
          "iopub.status.busy": "2022-08-03T03:51:28.628319Z",
          "iopub.execute_input": "2022-08-03T03:51:28.628601Z",
          "iopub.status.idle": "2022-08-03T03:51:28.750185Z",
          "shell.execute_reply.started": "2022-08-03T03:51:28.628573Z",
          "shell.execute_reply": "2022-08-03T03:51:28.749075Z"
        },
        "trusted": true,
        "id": "BEp-c87vi9Tc",
        "outputId": "e0b41ded-2391-4fd9-a546-5fc530563a39"
      },
      "execution_count": null,
      "outputs": [
        {
          "name": "stdout",
          "text": "Mean MAE: 0.167 (0.027)\n",
          "output_type": "stream"
        }
      ]
    },
    {
      "cell_type": "markdown",
      "source": [
        "Here, BayesianRidge & Linear Regression had the best score in terms of MAE (least MAE stands for more accuracy). Let's Chose BayesianRidge for further optimization."
      ],
      "metadata": {
        "id": "m2dhKbGpi9Td"
      }
    },
    {
      "cell_type": "markdown",
      "source": [
        "### 3. Hyperparameter Selection for model optimization:"
      ],
      "metadata": {
        "id": "vhuKpupCi9Td"
      }
    },
    {
      "cell_type": "code",
      "source": [
        "clf = GridSearchCV(BayesianRidge(),{\n",
        "    'alpha_1':list(range(0,10,1)),\n",
        "    'alpha_2':list(range(0,10,1)),\n",
        "    'lambda_1':list(range(0,10,1)),\n",
        "    'lambda_2':list(range(0,10,1))\n",
        "\n",
        "}, cv=5, return_train_score=False )\n",
        "\n",
        "clf.fit(X_train, y_train)"
      ],
      "metadata": {
        "execution": {
          "iopub.status.busy": "2022-08-03T03:51:28.751585Z",
          "iopub.execute_input": "2022-08-03T03:51:28.751905Z",
          "iopub.status.idle": "2022-08-03T03:55:31.483634Z",
          "shell.execute_reply.started": "2022-08-03T03:51:28.751875Z",
          "shell.execute_reply": "2022-08-03T03:55:31.482539Z"
        },
        "trusted": true,
        "colab": {
          "base_uri": "https://localhost:8080/",
          "height": 256
        },
        "id": "k9scy0yJi9Td",
        "outputId": "523f565f-20ab-4d3b-bdc4-e3854311b619"
      },
      "execution_count": 21,
      "outputs": [
        {
          "output_type": "execute_result",
          "data": {
            "text/plain": [
              "GridSearchCV(cv=5, estimator=BayesianRidge(),\n",
              "             param_grid={'alpha_1': [0, 1, 2, 3, 4, 5, 6, 7, 8, 9],\n",
              "                         'alpha_2': [0, 1, 2, 3, 4, 5, 6, 7, 8, 9],\n",
              "                         'lambda_1': [0, 1, 2, 3, 4, 5, 6, 7, 8, 9],\n",
              "                         'lambda_2': [0, 1, 2, 3, 4, 5, 6, 7, 8, 9]})"
            ],
            "text/html": [
              "<style>#sk-container-id-1 {color: black;background-color: white;}#sk-container-id-1 pre{padding: 0;}#sk-container-id-1 div.sk-toggleable {background-color: white;}#sk-container-id-1 label.sk-toggleable__label {cursor: pointer;display: block;width: 100%;margin-bottom: 0;padding: 0.3em;box-sizing: border-box;text-align: center;}#sk-container-id-1 label.sk-toggleable__label-arrow:before {content: \"▸\";float: left;margin-right: 0.25em;color: #696969;}#sk-container-id-1 label.sk-toggleable__label-arrow:hover:before {color: black;}#sk-container-id-1 div.sk-estimator:hover label.sk-toggleable__label-arrow:before {color: black;}#sk-container-id-1 div.sk-toggleable__content {max-height: 0;max-width: 0;overflow: hidden;text-align: left;background-color: #f0f8ff;}#sk-container-id-1 div.sk-toggleable__content pre {margin: 0.2em;color: black;border-radius: 0.25em;background-color: #f0f8ff;}#sk-container-id-1 input.sk-toggleable__control:checked~div.sk-toggleable__content {max-height: 200px;max-width: 100%;overflow: auto;}#sk-container-id-1 input.sk-toggleable__control:checked~label.sk-toggleable__label-arrow:before {content: \"▾\";}#sk-container-id-1 div.sk-estimator input.sk-toggleable__control:checked~label.sk-toggleable__label {background-color: #d4ebff;}#sk-container-id-1 div.sk-label input.sk-toggleable__control:checked~label.sk-toggleable__label {background-color: #d4ebff;}#sk-container-id-1 input.sk-hidden--visually {border: 0;clip: rect(1px 1px 1px 1px);clip: rect(1px, 1px, 1px, 1px);height: 1px;margin: -1px;overflow: hidden;padding: 0;position: absolute;width: 1px;}#sk-container-id-1 div.sk-estimator {font-family: monospace;background-color: #f0f8ff;border: 1px dotted black;border-radius: 0.25em;box-sizing: border-box;margin-bottom: 0.5em;}#sk-container-id-1 div.sk-estimator:hover {background-color: #d4ebff;}#sk-container-id-1 div.sk-parallel-item::after {content: \"\";width: 100%;border-bottom: 1px solid gray;flex-grow: 1;}#sk-container-id-1 div.sk-label:hover label.sk-toggleable__label {background-color: #d4ebff;}#sk-container-id-1 div.sk-serial::before {content: \"\";position: absolute;border-left: 1px solid gray;box-sizing: border-box;top: 0;bottom: 0;left: 50%;z-index: 0;}#sk-container-id-1 div.sk-serial {display: flex;flex-direction: column;align-items: center;background-color: white;padding-right: 0.2em;padding-left: 0.2em;position: relative;}#sk-container-id-1 div.sk-item {position: relative;z-index: 1;}#sk-container-id-1 div.sk-parallel {display: flex;align-items: stretch;justify-content: center;background-color: white;position: relative;}#sk-container-id-1 div.sk-item::before, #sk-container-id-1 div.sk-parallel-item::before {content: \"\";position: absolute;border-left: 1px solid gray;box-sizing: border-box;top: 0;bottom: 0;left: 50%;z-index: -1;}#sk-container-id-1 div.sk-parallel-item {display: flex;flex-direction: column;z-index: 1;position: relative;background-color: white;}#sk-container-id-1 div.sk-parallel-item:first-child::after {align-self: flex-end;width: 50%;}#sk-container-id-1 div.sk-parallel-item:last-child::after {align-self: flex-start;width: 50%;}#sk-container-id-1 div.sk-parallel-item:only-child::after {width: 0;}#sk-container-id-1 div.sk-dashed-wrapped {border: 1px dashed gray;margin: 0 0.4em 0.5em 0.4em;box-sizing: border-box;padding-bottom: 0.4em;background-color: white;}#sk-container-id-1 div.sk-label label {font-family: monospace;font-weight: bold;display: inline-block;line-height: 1.2em;}#sk-container-id-1 div.sk-label-container {text-align: center;}#sk-container-id-1 div.sk-container {/* jupyter's `normalize.less` sets `[hidden] { display: none; }` but bootstrap.min.css set `[hidden] { display: none !important; }` so we also need the `!important` here to be able to override the default hidden behavior on the sphinx rendered scikit-learn.org. See: https://github.com/scikit-learn/scikit-learn/issues/21755 */display: inline-block !important;position: relative;}#sk-container-id-1 div.sk-text-repr-fallback {display: none;}</style><div id=\"sk-container-id-1\" class=\"sk-top-container\"><div class=\"sk-text-repr-fallback\"><pre>GridSearchCV(cv=5, estimator=BayesianRidge(),\n",
              "             param_grid={&#x27;alpha_1&#x27;: [0, 1, 2, 3, 4, 5, 6, 7, 8, 9],\n",
              "                         &#x27;alpha_2&#x27;: [0, 1, 2, 3, 4, 5, 6, 7, 8, 9],\n",
              "                         &#x27;lambda_1&#x27;: [0, 1, 2, 3, 4, 5, 6, 7, 8, 9],\n",
              "                         &#x27;lambda_2&#x27;: [0, 1, 2, 3, 4, 5, 6, 7, 8, 9]})</pre><b>In a Jupyter environment, please rerun this cell to show the HTML representation or trust the notebook. <br />On GitHub, the HTML representation is unable to render, please try loading this page with nbviewer.org.</b></div><div class=\"sk-container\" hidden><div class=\"sk-item sk-dashed-wrapped\"><div class=\"sk-label-container\"><div class=\"sk-label sk-toggleable\"><input class=\"sk-toggleable__control sk-hidden--visually\" id=\"sk-estimator-id-1\" type=\"checkbox\" ><label for=\"sk-estimator-id-1\" class=\"sk-toggleable__label sk-toggleable__label-arrow\">GridSearchCV</label><div class=\"sk-toggleable__content\"><pre>GridSearchCV(cv=5, estimator=BayesianRidge(),\n",
              "             param_grid={&#x27;alpha_1&#x27;: [0, 1, 2, 3, 4, 5, 6, 7, 8, 9],\n",
              "                         &#x27;alpha_2&#x27;: [0, 1, 2, 3, 4, 5, 6, 7, 8, 9],\n",
              "                         &#x27;lambda_1&#x27;: [0, 1, 2, 3, 4, 5, 6, 7, 8, 9],\n",
              "                         &#x27;lambda_2&#x27;: [0, 1, 2, 3, 4, 5, 6, 7, 8, 9]})</pre></div></div></div><div class=\"sk-parallel\"><div class=\"sk-parallel-item\"><div class=\"sk-item\"><div class=\"sk-label-container\"><div class=\"sk-label sk-toggleable\"><input class=\"sk-toggleable__control sk-hidden--visually\" id=\"sk-estimator-id-2\" type=\"checkbox\" ><label for=\"sk-estimator-id-2\" class=\"sk-toggleable__label sk-toggleable__label-arrow\">estimator: BayesianRidge</label><div class=\"sk-toggleable__content\"><pre>BayesianRidge()</pre></div></div></div><div class=\"sk-serial\"><div class=\"sk-item\"><div class=\"sk-estimator sk-toggleable\"><input class=\"sk-toggleable__control sk-hidden--visually\" id=\"sk-estimator-id-3\" type=\"checkbox\" ><label for=\"sk-estimator-id-3\" class=\"sk-toggleable__label sk-toggleable__label-arrow\">BayesianRidge</label><div class=\"sk-toggleable__content\"><pre>BayesianRidge()</pre></div></div></div></div></div></div></div></div></div></div>"
            ]
          },
          "metadata": {},
          "execution_count": 21
        }
      ]
    },
    {
      "cell_type": "code",
      "source": [
        "param_df = pd.DataFrame(clf.cv_results_)\n",
        "param_df.head()"
      ],
      "metadata": {
        "execution": {
          "iopub.status.busy": "2022-08-03T03:55:31.484962Z",
          "iopub.execute_input": "2022-08-03T03:55:31.485320Z",
          "iopub.status.idle": "2022-08-03T03:55:31.514587Z",
          "shell.execute_reply.started": "2022-08-03T03:55:31.485289Z",
          "shell.execute_reply": "2022-08-03T03:55:31.513431Z"
        },
        "trusted": true,
        "colab": {
          "base_uri": "https://localhost:8080/",
          "height": 660
        },
        "id": "LlwaJCsqi9Td",
        "outputId": "673619ab-9320-46bc-ff9b-2c9f63ae4e6c"
      },
      "execution_count": 22,
      "outputs": [
        {
          "output_type": "execute_result",
          "data": {
            "text/plain": [
              "   mean_fit_time  std_fit_time  mean_score_time  std_score_time param_alpha_1  \\\n",
              "0       0.007529      0.006763         0.002663        0.000427             0   \n",
              "1       0.003912      0.000101         0.002461        0.000315             0   \n",
              "2       0.003816      0.000092         0.002365        0.000129             0   \n",
              "3       0.003694      0.000031         0.002261        0.000080             0   \n",
              "4       0.003792      0.000169         0.002424        0.000255             0   \n",
              "\n",
              "  param_alpha_2 param_lambda_1 param_lambda_2  \\\n",
              "0             0              0              0   \n",
              "1             0              0              1   \n",
              "2             0              0              2   \n",
              "3             0              0              3   \n",
              "4             0              0              4   \n",
              "\n",
              "                                              params  split0_test_score  \\\n",
              "0  {'alpha_1': 0, 'alpha_2': 0, 'lambda_1': 0, 'l...           0.968404   \n",
              "1  {'alpha_1': 0, 'alpha_2': 0, 'lambda_1': 0, 'l...           0.968477   \n",
              "2  {'alpha_1': 0, 'alpha_2': 0, 'lambda_1': 0, 'l...           0.968486   \n",
              "3  {'alpha_1': 0, 'alpha_2': 0, 'lambda_1': 0, 'l...           0.968489   \n",
              "4  {'alpha_1': 0, 'alpha_2': 0, 'lambda_1': 0, 'l...           0.968491   \n",
              "\n",
              "   split1_test_score  split2_test_score  split3_test_score  split4_test_score  \\\n",
              "0           0.983701           0.985508           0.988016           0.989245   \n",
              "1           0.983286           0.985306           0.987991           0.989304   \n",
              "2           0.983227           0.985277           0.987988           0.989311   \n",
              "3           0.983203           0.985266           0.987986           0.989314   \n",
              "4           0.983190           0.985260           0.987985           0.989315   \n",
              "\n",
              "   mean_test_score  std_test_score  rank_test_score  \n",
              "0         0.982975        0.007537             6040  \n",
              "1         0.982873        0.007495             6594  \n",
              "2         0.982858        0.007490             6806  \n",
              "3         0.982851        0.007488             6995  \n",
              "4         0.982848        0.007487             7167  "
            ],
            "text/html": [
              "\n",
              "  <div id=\"df-83466b0e-335f-46a0-9b43-1e21ea792bf6\" class=\"colab-df-container\">\n",
              "    <div>\n",
              "<style scoped>\n",
              "    .dataframe tbody tr th:only-of-type {\n",
              "        vertical-align: middle;\n",
              "    }\n",
              "\n",
              "    .dataframe tbody tr th {\n",
              "        vertical-align: top;\n",
              "    }\n",
              "\n",
              "    .dataframe thead th {\n",
              "        text-align: right;\n",
              "    }\n",
              "</style>\n",
              "<table border=\"1\" class=\"dataframe\">\n",
              "  <thead>\n",
              "    <tr style=\"text-align: right;\">\n",
              "      <th></th>\n",
              "      <th>mean_fit_time</th>\n",
              "      <th>std_fit_time</th>\n",
              "      <th>mean_score_time</th>\n",
              "      <th>std_score_time</th>\n",
              "      <th>param_alpha_1</th>\n",
              "      <th>param_alpha_2</th>\n",
              "      <th>param_lambda_1</th>\n",
              "      <th>param_lambda_2</th>\n",
              "      <th>params</th>\n",
              "      <th>split0_test_score</th>\n",
              "      <th>split1_test_score</th>\n",
              "      <th>split2_test_score</th>\n",
              "      <th>split3_test_score</th>\n",
              "      <th>split4_test_score</th>\n",
              "      <th>mean_test_score</th>\n",
              "      <th>std_test_score</th>\n",
              "      <th>rank_test_score</th>\n",
              "    </tr>\n",
              "  </thead>\n",
              "  <tbody>\n",
              "    <tr>\n",
              "      <th>0</th>\n",
              "      <td>0.007529</td>\n",
              "      <td>0.006763</td>\n",
              "      <td>0.002663</td>\n",
              "      <td>0.000427</td>\n",
              "      <td>0</td>\n",
              "      <td>0</td>\n",
              "      <td>0</td>\n",
              "      <td>0</td>\n",
              "      <td>{'alpha_1': 0, 'alpha_2': 0, 'lambda_1': 0, 'l...</td>\n",
              "      <td>0.968404</td>\n",
              "      <td>0.983701</td>\n",
              "      <td>0.985508</td>\n",
              "      <td>0.988016</td>\n",
              "      <td>0.989245</td>\n",
              "      <td>0.982975</td>\n",
              "      <td>0.007537</td>\n",
              "      <td>6040</td>\n",
              "    </tr>\n",
              "    <tr>\n",
              "      <th>1</th>\n",
              "      <td>0.003912</td>\n",
              "      <td>0.000101</td>\n",
              "      <td>0.002461</td>\n",
              "      <td>0.000315</td>\n",
              "      <td>0</td>\n",
              "      <td>0</td>\n",
              "      <td>0</td>\n",
              "      <td>1</td>\n",
              "      <td>{'alpha_1': 0, 'alpha_2': 0, 'lambda_1': 0, 'l...</td>\n",
              "      <td>0.968477</td>\n",
              "      <td>0.983286</td>\n",
              "      <td>0.985306</td>\n",
              "      <td>0.987991</td>\n",
              "      <td>0.989304</td>\n",
              "      <td>0.982873</td>\n",
              "      <td>0.007495</td>\n",
              "      <td>6594</td>\n",
              "    </tr>\n",
              "    <tr>\n",
              "      <th>2</th>\n",
              "      <td>0.003816</td>\n",
              "      <td>0.000092</td>\n",
              "      <td>0.002365</td>\n",
              "      <td>0.000129</td>\n",
              "      <td>0</td>\n",
              "      <td>0</td>\n",
              "      <td>0</td>\n",
              "      <td>2</td>\n",
              "      <td>{'alpha_1': 0, 'alpha_2': 0, 'lambda_1': 0, 'l...</td>\n",
              "      <td>0.968486</td>\n",
              "      <td>0.983227</td>\n",
              "      <td>0.985277</td>\n",
              "      <td>0.987988</td>\n",
              "      <td>0.989311</td>\n",
              "      <td>0.982858</td>\n",
              "      <td>0.007490</td>\n",
              "      <td>6806</td>\n",
              "    </tr>\n",
              "    <tr>\n",
              "      <th>3</th>\n",
              "      <td>0.003694</td>\n",
              "      <td>0.000031</td>\n",
              "      <td>0.002261</td>\n",
              "      <td>0.000080</td>\n",
              "      <td>0</td>\n",
              "      <td>0</td>\n",
              "      <td>0</td>\n",
              "      <td>3</td>\n",
              "      <td>{'alpha_1': 0, 'alpha_2': 0, 'lambda_1': 0, 'l...</td>\n",
              "      <td>0.968489</td>\n",
              "      <td>0.983203</td>\n",
              "      <td>0.985266</td>\n",
              "      <td>0.987986</td>\n",
              "      <td>0.989314</td>\n",
              "      <td>0.982851</td>\n",
              "      <td>0.007488</td>\n",
              "      <td>6995</td>\n",
              "    </tr>\n",
              "    <tr>\n",
              "      <th>4</th>\n",
              "      <td>0.003792</td>\n",
              "      <td>0.000169</td>\n",
              "      <td>0.002424</td>\n",
              "      <td>0.000255</td>\n",
              "      <td>0</td>\n",
              "      <td>0</td>\n",
              "      <td>0</td>\n",
              "      <td>4</td>\n",
              "      <td>{'alpha_1': 0, 'alpha_2': 0, 'lambda_1': 0, 'l...</td>\n",
              "      <td>0.968491</td>\n",
              "      <td>0.983190</td>\n",
              "      <td>0.985260</td>\n",
              "      <td>0.987985</td>\n",
              "      <td>0.989315</td>\n",
              "      <td>0.982848</td>\n",
              "      <td>0.007487</td>\n",
              "      <td>7167</td>\n",
              "    </tr>\n",
              "  </tbody>\n",
              "</table>\n",
              "</div>\n",
              "    <div class=\"colab-df-buttons\">\n",
              "\n",
              "  <div class=\"colab-df-container\">\n",
              "    <button class=\"colab-df-convert\" onclick=\"convertToInteractive('df-83466b0e-335f-46a0-9b43-1e21ea792bf6')\"\n",
              "            title=\"Convert this dataframe to an interactive table.\"\n",
              "            style=\"display:none;\">\n",
              "\n",
              "  <svg xmlns=\"http://www.w3.org/2000/svg\" height=\"24px\" viewBox=\"0 -960 960 960\">\n",
              "    <path d=\"M120-120v-720h720v720H120Zm60-500h600v-160H180v160Zm220 220h160v-160H400v160Zm0 220h160v-160H400v160ZM180-400h160v-160H180v160Zm440 0h160v-160H620v160ZM180-180h160v-160H180v160Zm440 0h160v-160H620v160Z\"/>\n",
              "  </svg>\n",
              "    </button>\n",
              "\n",
              "  <style>\n",
              "    .colab-df-container {\n",
              "      display:flex;\n",
              "      gap: 12px;\n",
              "    }\n",
              "\n",
              "    .colab-df-convert {\n",
              "      background-color: #E8F0FE;\n",
              "      border: none;\n",
              "      border-radius: 50%;\n",
              "      cursor: pointer;\n",
              "      display: none;\n",
              "      fill: #1967D2;\n",
              "      height: 32px;\n",
              "      padding: 0 0 0 0;\n",
              "      width: 32px;\n",
              "    }\n",
              "\n",
              "    .colab-df-convert:hover {\n",
              "      background-color: #E2EBFA;\n",
              "      box-shadow: 0px 1px 2px rgba(60, 64, 67, 0.3), 0px 1px 3px 1px rgba(60, 64, 67, 0.15);\n",
              "      fill: #174EA6;\n",
              "    }\n",
              "\n",
              "    .colab-df-buttons div {\n",
              "      margin-bottom: 4px;\n",
              "    }\n",
              "\n",
              "    [theme=dark] .colab-df-convert {\n",
              "      background-color: #3B4455;\n",
              "      fill: #D2E3FC;\n",
              "    }\n",
              "\n",
              "    [theme=dark] .colab-df-convert:hover {\n",
              "      background-color: #434B5C;\n",
              "      box-shadow: 0px 1px 3px 1px rgba(0, 0, 0, 0.15);\n",
              "      filter: drop-shadow(0px 1px 2px rgba(0, 0, 0, 0.3));\n",
              "      fill: #FFFFFF;\n",
              "    }\n",
              "  </style>\n",
              "\n",
              "    <script>\n",
              "      const buttonEl =\n",
              "        document.querySelector('#df-83466b0e-335f-46a0-9b43-1e21ea792bf6 button.colab-df-convert');\n",
              "      buttonEl.style.display =\n",
              "        google.colab.kernel.accessAllowed ? 'block' : 'none';\n",
              "\n",
              "      async function convertToInteractive(key) {\n",
              "        const element = document.querySelector('#df-83466b0e-335f-46a0-9b43-1e21ea792bf6');\n",
              "        const dataTable =\n",
              "          await google.colab.kernel.invokeFunction('convertToInteractive',\n",
              "                                                    [key], {});\n",
              "        if (!dataTable) return;\n",
              "\n",
              "        const docLinkHtml = 'Like what you see? Visit the ' +\n",
              "          '<a target=\"_blank\" href=https://colab.research.google.com/notebooks/data_table.ipynb>data table notebook</a>'\n",
              "          + ' to learn more about interactive tables.';\n",
              "        element.innerHTML = '';\n",
              "        dataTable['output_type'] = 'display_data';\n",
              "        await google.colab.output.renderOutput(dataTable, element);\n",
              "        const docLink = document.createElement('div');\n",
              "        docLink.innerHTML = docLinkHtml;\n",
              "        element.appendChild(docLink);\n",
              "      }\n",
              "    </script>\n",
              "  </div>\n",
              "\n",
              "\n",
              "<div id=\"df-d1f7664d-39c0-4a9e-a2cd-ed4f7bb83a85\">\n",
              "  <button class=\"colab-df-quickchart\" onclick=\"quickchart('df-d1f7664d-39c0-4a9e-a2cd-ed4f7bb83a85')\"\n",
              "            title=\"Suggest charts.\"\n",
              "            style=\"display:none;\">\n",
              "\n",
              "<svg xmlns=\"http://www.w3.org/2000/svg\" height=\"24px\"viewBox=\"0 0 24 24\"\n",
              "     width=\"24px\">\n",
              "    <g>\n",
              "        <path d=\"M19 3H5c-1.1 0-2 .9-2 2v14c0 1.1.9 2 2 2h14c1.1 0 2-.9 2-2V5c0-1.1-.9-2-2-2zM9 17H7v-7h2v7zm4 0h-2V7h2v10zm4 0h-2v-4h2v4z\"/>\n",
              "    </g>\n",
              "</svg>\n",
              "  </button>\n",
              "\n",
              "<style>\n",
              "  .colab-df-quickchart {\n",
              "      --bg-color: #E8F0FE;\n",
              "      --fill-color: #1967D2;\n",
              "      --hover-bg-color: #E2EBFA;\n",
              "      --hover-fill-color: #174EA6;\n",
              "      --disabled-fill-color: #AAA;\n",
              "      --disabled-bg-color: #DDD;\n",
              "  }\n",
              "\n",
              "  [theme=dark] .colab-df-quickchart {\n",
              "      --bg-color: #3B4455;\n",
              "      --fill-color: #D2E3FC;\n",
              "      --hover-bg-color: #434B5C;\n",
              "      --hover-fill-color: #FFFFFF;\n",
              "      --disabled-bg-color: #3B4455;\n",
              "      --disabled-fill-color: #666;\n",
              "  }\n",
              "\n",
              "  .colab-df-quickchart {\n",
              "    background-color: var(--bg-color);\n",
              "    border: none;\n",
              "    border-radius: 50%;\n",
              "    cursor: pointer;\n",
              "    display: none;\n",
              "    fill: var(--fill-color);\n",
              "    height: 32px;\n",
              "    padding: 0;\n",
              "    width: 32px;\n",
              "  }\n",
              "\n",
              "  .colab-df-quickchart:hover {\n",
              "    background-color: var(--hover-bg-color);\n",
              "    box-shadow: 0 1px 2px rgba(60, 64, 67, 0.3), 0 1px 3px 1px rgba(60, 64, 67, 0.15);\n",
              "    fill: var(--button-hover-fill-color);\n",
              "  }\n",
              "\n",
              "  .colab-df-quickchart-complete:disabled,\n",
              "  .colab-df-quickchart-complete:disabled:hover {\n",
              "    background-color: var(--disabled-bg-color);\n",
              "    fill: var(--disabled-fill-color);\n",
              "    box-shadow: none;\n",
              "  }\n",
              "\n",
              "  .colab-df-spinner {\n",
              "    border: 2px solid var(--fill-color);\n",
              "    border-color: transparent;\n",
              "    border-bottom-color: var(--fill-color);\n",
              "    animation:\n",
              "      spin 1s steps(1) infinite;\n",
              "  }\n",
              "\n",
              "  @keyframes spin {\n",
              "    0% {\n",
              "      border-color: transparent;\n",
              "      border-bottom-color: var(--fill-color);\n",
              "      border-left-color: var(--fill-color);\n",
              "    }\n",
              "    20% {\n",
              "      border-color: transparent;\n",
              "      border-left-color: var(--fill-color);\n",
              "      border-top-color: var(--fill-color);\n",
              "    }\n",
              "    30% {\n",
              "      border-color: transparent;\n",
              "      border-left-color: var(--fill-color);\n",
              "      border-top-color: var(--fill-color);\n",
              "      border-right-color: var(--fill-color);\n",
              "    }\n",
              "    40% {\n",
              "      border-color: transparent;\n",
              "      border-right-color: var(--fill-color);\n",
              "      border-top-color: var(--fill-color);\n",
              "    }\n",
              "    60% {\n",
              "      border-color: transparent;\n",
              "      border-right-color: var(--fill-color);\n",
              "    }\n",
              "    80% {\n",
              "      border-color: transparent;\n",
              "      border-right-color: var(--fill-color);\n",
              "      border-bottom-color: var(--fill-color);\n",
              "    }\n",
              "    90% {\n",
              "      border-color: transparent;\n",
              "      border-bottom-color: var(--fill-color);\n",
              "    }\n",
              "  }\n",
              "</style>\n",
              "\n",
              "  <script>\n",
              "    async function quickchart(key) {\n",
              "      const quickchartButtonEl =\n",
              "        document.querySelector('#' + key + ' button');\n",
              "      quickchartButtonEl.disabled = true;  // To prevent multiple clicks.\n",
              "      quickchartButtonEl.classList.add('colab-df-spinner');\n",
              "      try {\n",
              "        const charts = await google.colab.kernel.invokeFunction(\n",
              "            'suggestCharts', [key], {});\n",
              "      } catch (error) {\n",
              "        console.error('Error during call to suggestCharts:', error);\n",
              "      }\n",
              "      quickchartButtonEl.classList.remove('colab-df-spinner');\n",
              "      quickchartButtonEl.classList.add('colab-df-quickchart-complete');\n",
              "    }\n",
              "    (() => {\n",
              "      let quickchartButtonEl =\n",
              "        document.querySelector('#df-d1f7664d-39c0-4a9e-a2cd-ed4f7bb83a85 button');\n",
              "      quickchartButtonEl.style.display =\n",
              "        google.colab.kernel.accessAllowed ? 'block' : 'none';\n",
              "    })();\n",
              "  </script>\n",
              "</div>\n",
              "    </div>\n",
              "  </div>\n"
            ]
          },
          "metadata": {},
          "execution_count": 22
        }
      ]
    },
    {
      "cell_type": "markdown",
      "source": [
        "### Let's get the test score..."
      ],
      "metadata": {
        "id": "BulrBwqzz3R0"
      }
    },
    {
      "cell_type": "code",
      "source": [
        "max_test_score = np.max(param_df[\"mean_test_score\"])\n",
        "print(max_test_score)"
      ],
      "metadata": {
        "execution": {
          "iopub.status.busy": "2022-08-03T03:55:31.516044Z",
          "iopub.execute_input": "2022-08-03T03:55:31.516927Z",
          "iopub.status.idle": "2022-08-03T03:55:31.522617Z",
          "shell.execute_reply.started": "2022-08-03T03:55:31.516896Z",
          "shell.execute_reply": "2022-08-03T03:55:31.521518Z"
        },
        "trusted": true,
        "colab": {
          "base_uri": "https://localhost:8080/"
        },
        "id": "T3OZe89Di9Td",
        "outputId": "40f2d3cb-d1da-44be-db96-78829304685f"
      },
      "execution_count": 23,
      "outputs": [
        {
          "output_type": "stream",
          "name": "stdout",
          "text": [
            "0.9832190218864664\n"
          ]
        }
      ]
    },
    {
      "cell_type": "code",
      "source": [
        "param_df[param_df['mean_test_score']==max_test_score]"
      ],
      "metadata": {
        "execution": {
          "iopub.status.busy": "2022-08-03T03:55:31.523713Z",
          "iopub.execute_input": "2022-08-03T03:55:31.524634Z",
          "iopub.status.idle": "2022-08-03T03:55:31.552756Z",
          "shell.execute_reply.started": "2022-08-03T03:55:31.524601Z",
          "shell.execute_reply": "2022-08-03T03:55:31.551703Z"
        },
        "trusted": true,
        "colab": {
          "base_uri": "https://localhost:8080/",
          "height": 188
        },
        "id": "EQMbcfnoi9Td",
        "outputId": "fc03d7b1-38f8-4629-8104-a62106aa4684"
      },
      "execution_count": 24,
      "outputs": [
        {
          "output_type": "execute_result",
          "data": {
            "text/plain": [
              "     mean_fit_time  std_fit_time  mean_score_time  std_score_time  \\\n",
              "806       0.002291      0.000026         0.001424        0.000006   \n",
              "\n",
              "    param_alpha_1 param_alpha_2 param_lambda_1 param_lambda_2  \\\n",
              "806             0             8              0              6   \n",
              "\n",
              "                                                params  split0_test_score  \\\n",
              "806  {'alpha_1': 0, 'alpha_2': 8, 'lambda_1': 0, 'l...           0.967912   \n",
              "\n",
              "     split1_test_score  split2_test_score  split3_test_score  \\\n",
              "806           0.985051           0.986235           0.988017   \n",
              "\n",
              "     split4_test_score  mean_test_score  std_test_score  rank_test_score  \n",
              "806            0.98888         0.983219        0.007769                1  "
            ],
            "text/html": [
              "\n",
              "  <div id=\"df-54348360-a1dd-4fef-81c7-39dcbe297e03\" class=\"colab-df-container\">\n",
              "    <div>\n",
              "<style scoped>\n",
              "    .dataframe tbody tr th:only-of-type {\n",
              "        vertical-align: middle;\n",
              "    }\n",
              "\n",
              "    .dataframe tbody tr th {\n",
              "        vertical-align: top;\n",
              "    }\n",
              "\n",
              "    .dataframe thead th {\n",
              "        text-align: right;\n",
              "    }\n",
              "</style>\n",
              "<table border=\"1\" class=\"dataframe\">\n",
              "  <thead>\n",
              "    <tr style=\"text-align: right;\">\n",
              "      <th></th>\n",
              "      <th>mean_fit_time</th>\n",
              "      <th>std_fit_time</th>\n",
              "      <th>mean_score_time</th>\n",
              "      <th>std_score_time</th>\n",
              "      <th>param_alpha_1</th>\n",
              "      <th>param_alpha_2</th>\n",
              "      <th>param_lambda_1</th>\n",
              "      <th>param_lambda_2</th>\n",
              "      <th>params</th>\n",
              "      <th>split0_test_score</th>\n",
              "      <th>split1_test_score</th>\n",
              "      <th>split2_test_score</th>\n",
              "      <th>split3_test_score</th>\n",
              "      <th>split4_test_score</th>\n",
              "      <th>mean_test_score</th>\n",
              "      <th>std_test_score</th>\n",
              "      <th>rank_test_score</th>\n",
              "    </tr>\n",
              "  </thead>\n",
              "  <tbody>\n",
              "    <tr>\n",
              "      <th>806</th>\n",
              "      <td>0.002291</td>\n",
              "      <td>0.000026</td>\n",
              "      <td>0.001424</td>\n",
              "      <td>0.000006</td>\n",
              "      <td>0</td>\n",
              "      <td>8</td>\n",
              "      <td>0</td>\n",
              "      <td>6</td>\n",
              "      <td>{'alpha_1': 0, 'alpha_2': 8, 'lambda_1': 0, 'l...</td>\n",
              "      <td>0.967912</td>\n",
              "      <td>0.985051</td>\n",
              "      <td>0.986235</td>\n",
              "      <td>0.988017</td>\n",
              "      <td>0.98888</td>\n",
              "      <td>0.983219</td>\n",
              "      <td>0.007769</td>\n",
              "      <td>1</td>\n",
              "    </tr>\n",
              "  </tbody>\n",
              "</table>\n",
              "</div>\n",
              "    <div class=\"colab-df-buttons\">\n",
              "\n",
              "  <div class=\"colab-df-container\">\n",
              "    <button class=\"colab-df-convert\" onclick=\"convertToInteractive('df-54348360-a1dd-4fef-81c7-39dcbe297e03')\"\n",
              "            title=\"Convert this dataframe to an interactive table.\"\n",
              "            style=\"display:none;\">\n",
              "\n",
              "  <svg xmlns=\"http://www.w3.org/2000/svg\" height=\"24px\" viewBox=\"0 -960 960 960\">\n",
              "    <path d=\"M120-120v-720h720v720H120Zm60-500h600v-160H180v160Zm220 220h160v-160H400v160Zm0 220h160v-160H400v160ZM180-400h160v-160H180v160Zm440 0h160v-160H620v160ZM180-180h160v-160H180v160Zm440 0h160v-160H620v160Z\"/>\n",
              "  </svg>\n",
              "    </button>\n",
              "\n",
              "  <style>\n",
              "    .colab-df-container {\n",
              "      display:flex;\n",
              "      gap: 12px;\n",
              "    }\n",
              "\n",
              "    .colab-df-convert {\n",
              "      background-color: #E8F0FE;\n",
              "      border: none;\n",
              "      border-radius: 50%;\n",
              "      cursor: pointer;\n",
              "      display: none;\n",
              "      fill: #1967D2;\n",
              "      height: 32px;\n",
              "      padding: 0 0 0 0;\n",
              "      width: 32px;\n",
              "    }\n",
              "\n",
              "    .colab-df-convert:hover {\n",
              "      background-color: #E2EBFA;\n",
              "      box-shadow: 0px 1px 2px rgba(60, 64, 67, 0.3), 0px 1px 3px 1px rgba(60, 64, 67, 0.15);\n",
              "      fill: #174EA6;\n",
              "    }\n",
              "\n",
              "    .colab-df-buttons div {\n",
              "      margin-bottom: 4px;\n",
              "    }\n",
              "\n",
              "    [theme=dark] .colab-df-convert {\n",
              "      background-color: #3B4455;\n",
              "      fill: #D2E3FC;\n",
              "    }\n",
              "\n",
              "    [theme=dark] .colab-df-convert:hover {\n",
              "      background-color: #434B5C;\n",
              "      box-shadow: 0px 1px 3px 1px rgba(0, 0, 0, 0.15);\n",
              "      filter: drop-shadow(0px 1px 2px rgba(0, 0, 0, 0.3));\n",
              "      fill: #FFFFFF;\n",
              "    }\n",
              "  </style>\n",
              "\n",
              "    <script>\n",
              "      const buttonEl =\n",
              "        document.querySelector('#df-54348360-a1dd-4fef-81c7-39dcbe297e03 button.colab-df-convert');\n",
              "      buttonEl.style.display =\n",
              "        google.colab.kernel.accessAllowed ? 'block' : 'none';\n",
              "\n",
              "      async function convertToInteractive(key) {\n",
              "        const element = document.querySelector('#df-54348360-a1dd-4fef-81c7-39dcbe297e03');\n",
              "        const dataTable =\n",
              "          await google.colab.kernel.invokeFunction('convertToInteractive',\n",
              "                                                    [key], {});\n",
              "        if (!dataTable) return;\n",
              "\n",
              "        const docLinkHtml = 'Like what you see? Visit the ' +\n",
              "          '<a target=\"_blank\" href=https://colab.research.google.com/notebooks/data_table.ipynb>data table notebook</a>'\n",
              "          + ' to learn more about interactive tables.';\n",
              "        element.innerHTML = '';\n",
              "        dataTable['output_type'] = 'display_data';\n",
              "        await google.colab.output.renderOutput(dataTable, element);\n",
              "        const docLink = document.createElement('div');\n",
              "        docLink.innerHTML = docLinkHtml;\n",
              "        element.appendChild(docLink);\n",
              "      }\n",
              "    </script>\n",
              "  </div>\n",
              "\n",
              "    </div>\n",
              "  </div>\n"
            ]
          },
          "metadata": {},
          "execution_count": 24
        }
      ]
    },
    {
      "cell_type": "code",
      "source": [
        "print('''Hyper Parameters are:\n",
        "            alpha_1: {}\n",
        "            alpha_2: {}\n",
        "\n",
        "            lambda_1: {}\n",
        "            lambda_2: {}'''.format(param_df[\"param_alpha_1\"][806], param_df[\"param_alpha_2\"][806], param_df[\"param_lambda_1\"][806], param_df[\"param_lambda_2\"][806]))"
      ],
      "metadata": {
        "execution": {
          "iopub.status.busy": "2022-08-03T03:55:31.555862Z",
          "iopub.execute_input": "2022-08-03T03:55:31.556316Z",
          "iopub.status.idle": "2022-08-03T03:55:31.565289Z",
          "shell.execute_reply.started": "2022-08-03T03:55:31.556280Z",
          "shell.execute_reply": "2022-08-03T03:55:31.563968Z"
        },
        "trusted": true,
        "colab": {
          "base_uri": "https://localhost:8080/"
        },
        "id": "Qgmt9puoi9Td",
        "outputId": "59aa9d28-9b62-4f63-94ef-137206a0a0e6"
      },
      "execution_count": 25,
      "outputs": [
        {
          "output_type": "stream",
          "name": "stdout",
          "text": [
            "Hyper Parameters are:\n",
            "            alpha_1: 0\n",
            "            alpha_2: 8\n",
            "            \n",
            "            lambda_1: 0\n",
            "            lambda_2: 6\n"
          ]
        }
      ]
    },
    {
      "cell_type": "markdown",
      "source": [
        "### 4. Model Fitting:"
      ],
      "metadata": {
        "id": "wtgJMnAVi9Td"
      }
    },
    {
      "cell_type": "code",
      "source": [
        "# Model Defining and Fitting\n",
        "model_br= BayesianRidge(alpha_1=0, alpha_2=1, lambda_1=9, lambda_2=9)\n",
        "fit_data = model_br.fit(X_train, y_train)"
      ],
      "metadata": {
        "execution": {
          "iopub.status.busy": "2022-08-03T03:55:31.566869Z",
          "iopub.execute_input": "2022-08-03T03:55:31.567483Z",
          "iopub.status.idle": "2022-08-03T03:55:31.580432Z",
          "shell.execute_reply.started": "2022-08-03T03:55:31.567450Z",
          "shell.execute_reply": "2022-08-03T03:55:31.579409Z"
        },
        "trusted": true,
        "id": "O8rnLYEwi9Te"
      },
      "execution_count": 26,
      "outputs": []
    },
    {
      "cell_type": "markdown",
      "source": [
        "### 5. Model Performance and Prediction:"
      ],
      "metadata": {
        "id": "ndTwzCb50EjZ"
      }
    },
    {
      "cell_type": "code",
      "source": [
        "# Prediction\n",
        "\n",
        "prediction = fit_data.predict(X_test)\n",
        "\n",
        "# Plotting both the curves simultaneously\n",
        "plt.figure(figsize=(10,10))\n",
        "plt.scatter(y_test, prediction, c='crimson')\n",
        "plt.yscale('log')\n",
        "plt.xscale('log')\n",
        "\n",
        "p1 = max(max(prediction), max(y_test))\n",
        "p2 = min(min(prediction), min(y_test))\n",
        "plt.plot([p1, p2], [p1, p2], 'b-')\n",
        "plt.xlabel('True Values', fontsize=15)\n",
        "plt.ylabel('Predictions', fontsize=15)\n",
        "plt.title(\"Accuracy Plot\")\n",
        "plt.axis('equal')\n",
        "plt.show()"
      ],
      "metadata": {
        "execution": {
          "iopub.status.busy": "2022-08-03T03:55:31.582152Z",
          "iopub.execute_input": "2022-08-03T03:55:31.582834Z",
          "iopub.status.idle": "2022-08-03T03:55:32.503482Z",
          "shell.execute_reply.started": "2022-08-03T03:55:31.582757Z",
          "shell.execute_reply": "2022-08-03T03:55:32.502385Z"
        },
        "trusted": true,
        "colab": {
          "base_uri": "https://localhost:8080/",
          "height": 883
        },
        "id": "HPreEJVGi9Te",
        "outputId": "a55dfbc8-a155-4953-aef5-576efa7c6913"
      },
      "execution_count": 27,
      "outputs": [
        {
          "output_type": "display_data",
          "data": {
            "text/plain": [
              "<Figure size 1000x1000 with 1 Axes>"
            ],
            "image/png": "[encoded data removed]"
          },
          "metadata": {}
        }
      ]
    },
    {
      "cell_type": "markdown",
      "source": [
        "The above linear relationship and the data points show us the accuracy of the model and how good our regression model is performing or can perform with new data."
      ],
      "metadata": {
        "id": "59uaJcuZ0MkL"
      }
    },
    {
      "cell_type": "markdown",
      "source": [
        "### Bias-Variance Check:"
      ],
      "metadata": {
        "id": "6qeSc4bVi9Tm"
      }
    },
    {
      "cell_type": "code",
      "source": [
        "from mlxtend.evaluate import bias_variance_decomp\n",
        "X_tr = X_train.to_numpy(dtype ='float32')\n",
        "X_tst = X_test.to_numpy(dtype ='float32')\n",
        "y_tr = y_train.to_numpy(dtype ='float32')\n",
        "y_tst = y_test.to_numpy(dtype ='float32')\n",
        "\n",
        "mse, bias, variance = bias_variance_decomp(model_br, X_tr, y_tr, X_tst, y_tst,\n",
        "                                           loss='mse', num_rounds=200, random_seed=123)\n",
        "print(\"Average Bias : \", bias)\n",
        "print(\"Average Variance : \", variance)"
      ],
      "metadata": {
        "execution": {
          "iopub.status.busy": "2022-08-03T03:55:32.505029Z",
          "iopub.execute_input": "2022-08-03T03:55:32.505728Z",
          "iopub.status.idle": "2022-08-03T03:55:32.766150Z",
          "shell.execute_reply.started": "2022-08-03T03:55:32.505679Z",
          "shell.execute_reply": "2022-08-03T03:55:32.765000Z"
        },
        "trusted": true,
        "colab": {
          "base_uri": "https://localhost:8080/"
        },
        "id": "QsqG95iqi9Tm",
        "outputId": "2e008c98-67b2-4cab-9a13-ca4107744e53"
      },
      "execution_count": 28,
      "outputs": [
        {
          "output_type": "stream",
          "name": "stdout",
          "text": [
            "Average Bias :  0.0009344158558913755\n",
            "Average Variance :  4.204274840410594e-05\n"
          ]
        }
      ]
    },
    {
      "cell_type": "markdown",
      "source": [
        "### Let's check the error metrics too..."
      ],
      "metadata": {
        "id": "fwNDuJz50eQv"
      }
    },
    {
      "cell_type": "code",
      "source": [
        "rmse=np.sqrt(mean_squared_error(y_test, prediction))\n",
        "print('RMSE: ', rmse)\n",
        "r2 = r2_score(y_test, prediction)\n",
        "print('R squared: ', r2)"
      ],
      "metadata": {
        "execution": {
          "iopub.status.busy": "2022-08-03T03:55:32.767409Z",
          "iopub.execute_input": "2022-08-03T03:55:32.767740Z",
          "iopub.status.idle": "2022-08-03T03:55:32.775578Z",
          "shell.execute_reply.started": "2022-08-03T03:55:32.767709Z",
          "shell.execute_reply": "2022-08-03T03:55:32.774695Z"
        },
        "trusted": true,
        "colab": {
          "base_uri": "https://localhost:8080/"
        },
        "id": "bkbFT5VOi9Tm",
        "outputId": "708d039d-b4c1-48bc-b25c-8997bfa5b313"
      },
      "execution_count": 29,
      "outputs": [
        {
          "output_type": "stream",
          "name": "stdout",
          "text": [
            "RMSE:  0.030622590435954708\n",
            "R squared:  0.9799314600892053\n"
          ]
        }
      ]
    },
    {
      "cell_type": "markdown",
      "source": [
        "### OLS using statsmodel:"
      ],
      "metadata": {
        "id": "AFuT303ri9Tm"
      }
    },
    {
      "cell_type": "code",
      "source": [
        "result = sm.OLS(y_train, X_train).fit()\n",
        "print(result.summary())"
      ],
      "metadata": {
        "execution": {
          "iopub.status.busy": "2022-08-03T03:55:32.776846Z",
          "iopub.execute_input": "2022-08-03T03:55:32.777174Z",
          "iopub.status.idle": "2022-08-03T03:55:32.805991Z",
          "shell.execute_reply.started": "2022-08-03T03:55:32.777144Z",
          "shell.execute_reply": "2022-08-03T03:55:32.805169Z"
        },
        "trusted": true,
        "colab": {
          "base_uri": "https://localhost:8080/"
        },
        "id": "nhF2X3Nki9Tn",
        "outputId": "893a03b9-b5c0-4e02-ff65-a58968a15282"
      },
      "execution_count": 30,
      "outputs": [
        {
          "output_type": "stream",
          "name": "stdout",
          "text": [
            "                                 OLS Regression Results                                \n",
            "=======================================================================================\n",
            "Dep. Variable:      house_price_index   R-squared (uncentered):                   0.997\n",
            "Model:                            OLS   Adj. R-squared (uncentered):              0.997\n",
            "Method:                 Least Squares   F-statistic:                              5856.\n",
            "Date:                Fri, 03 Nov 2023   Prob (F-statistic):                   6.55e-232\n",
            "Time:                        20:14:25   Log-Likelihood:                          459.94\n",
            "No. Observations:                 199   AIC:                                     -897.9\n",
            "Df Residuals:                     188   BIC:                                     -861.7\n",
            "Df Model:                          11                                                  \n",
            "Covariance Type:            nonrobust                                                  \n",
            "====================================================================================\n",
            "                       coef    std err          t      P>|t|      [0.025      0.975]\n",
            "------------------------------------------------------------------------------------\n",
            "population           0.2579      0.029      8.885      0.000       0.201       0.315\n",
            "house_supply         0.2772      0.020     13.796      0.000       0.238       0.317\n",
            "gdp                  0.1324      0.034      3.942      0.000       0.066       0.199\n",
            "mortgage_rate       -0.1059      0.027     -3.936      0.000      -0.159      -0.053\n",
            "employment_rate     -0.2349      0.037     -6.304      0.000      -0.308      -0.161\n",
            "permit_new           0.1444      0.028      5.145      0.000       0.089       0.200\n",
            "ppi_res              0.3119      0.050      6.209      0.000       0.213       0.411\n",
            "m3                   0.3027      0.053      5.665      0.000       0.197       0.408\n",
            "cci                 -0.0261      0.018     -1.480      0.141      -0.061       0.009\n",
            "delinquency_rate    -0.2179      0.013    -17.305      0.000      -0.243      -0.193\n",
            "hcai                 0.2350      0.018     13.062      0.000       0.200       0.271\n",
            "==============================================================================\n",
            "Omnibus:                       21.819   Durbin-Watson:                   2.155\n",
            "Prob(Omnibus):                  0.000   Jarque-Bera (JB):               28.284\n",
            "Skew:                           0.715   Prob(JB):                     7.22e-07\n",
            "Kurtosis:                       4.170   Cond. No.                         73.3\n",
            "==============================================================================\n",
            "\n",
            "Notes:\n",
            "[1] R² is computed without centering (uncentered) since the model does not contain a constant.\n",
            "[2] Standard Errors assume that the covariance matrix of the errors is correctly specified.\n"
          ]
        }
      ]
    },
    {
      "cell_type": "markdown",
      "source": [
        "### 6. Insights and the Final Verdict:"
      ],
      "metadata": {
        "id": "2xpcuppB1CiN"
      }
    },
    {
      "cell_type": "markdown",
      "source": [
        "- ```Here, the model shows that 'cci' aka Consumer Confidence Index has no relationship with the target house_price_index since it fails to rejects the null hypothesis (there's no relationship) i.e., p values > 0.05. Alternative hypothesis being 'some relationship exists' is true for the rest of the features except CCI```\n",
        "\n",
        "- This model also shows that the 99.7% (r squares = 0.997) of the variability of house price index can be explained by it's independent features.\n",
        "\n"
      ],
      "metadata": {
        "id": "cis1i1Yri9Tn"
      }
    },
    {
      "cell_type": "markdown",
      "source": [
        "### THANK YOU!!"
      ],
      "metadata": {
        "id": "pOc4eCsv1IoF"
      }
    },
    {
      "cell_type": "code",
      "source": [],
      "metadata": {
        "id": "l0gF0jJY1MP4"
      },
      "execution_count": null,
      "outputs": []
    }
  ]
}